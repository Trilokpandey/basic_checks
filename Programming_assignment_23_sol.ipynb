{
 "cells": [
  {
   "cell_type": "markdown",
   "metadata": {},
   "source": [
    "#### Question 1\n",
    "#### Create a function that takes a number as an argument and returns True or False depending on whether the number is symmetrical or not. A number is symmetrical when it is the same as its reverse.\n",
    "#### Examples\n",
    "#### is_symmetrical(7227) ➞ True\n",
    "\n",
    "#### is_symmetrical(12567) ➞ False\n",
    "\n",
    "#### is_symmetrical(44444444) ➞ True\n",
    "\n",
    "#### is_symmetrical(9939) ➞ False\n",
    "\n",
    "#### is_symmetrical(1112111) ➞ True\n"
   ]
  },
  {
   "cell_type": "code",
   "execution_count": 1,
   "metadata": {},
   "outputs": [
    {
     "name": "stdout",
     "output_type": "stream",
     "text": [
      "enter the number : 9939\n"
     ]
    },
    {
     "data": {
      "text/plain": [
       "False"
      ]
     },
     "execution_count": 1,
     "metadata": {},
     "output_type": "execute_result"
    }
   ],
   "source": [
    "num=int(input(\"enter the number : \"))\n",
    "\n",
    "def is_symmetrical(num):\n",
    "    if int(str(num)[::-1])==num:\n",
    "        return True\n",
    "    else:\n",
    "        return False\n",
    "    \n",
    "is_symmetrical(num)\n",
    "    "
   ]
  },
  {
   "cell_type": "markdown",
   "metadata": {},
   "source": [
    "#### Question 2\n",
    "#### Given a string of numbers separated by a comma and space, return the product of the numbers.\n",
    "#### Examples\n",
    "#### multiply_nums(\"2, 3\") ➞ 6\n",
    "\n",
    "#### multiply_nums(\"1, 2, 3, 4\") ➞ 24\n",
    "\n",
    "#### multiply_nums(\"54, 75, 453, 0\") ➞ 0\n",
    "\n",
    "#### multiply_nums(\"10, -2\") ➞ -20\n"
   ]
  },
  {
   "cell_type": "code",
   "execution_count": 2,
   "metadata": {},
   "outputs": [
    {
     "data": {
      "text/plain": [
       "-20"
      ]
     },
     "execution_count": 2,
     "metadata": {},
     "output_type": "execute_result"
    }
   ],
   "source": [
    "s=\"10, -2\"\n",
    "def multiply_nums(s):\n",
    "    product=1\n",
    "    for i in s.split(','):\n",
    "        product*=int(i)\n",
    "    return product\n",
    "\n",
    "multiply_nums(s)"
   ]
  },
  {
   "cell_type": "markdown",
   "metadata": {},
   "source": [
    "#### Question 3\n",
    "#### Create a function that squares every digit of a number.\n",
    "#### Examples\n",
    "#### square_digits(9119) ➞ 811181\n",
    "\n",
    "#### square_digits(2483) ➞ 416649\n",
    "\n",
    "#### square_digits(3212) ➞ 9414\n",
    "#### Notes\n",
    "#### The function receives an integer and must return an integer.\n"
   ]
  },
  {
   "cell_type": "code",
   "execution_count": 3,
   "metadata": {},
   "outputs": [
    {
     "name": "stdout",
     "output_type": "stream",
     "text": [
      "enter any number : 2483\n"
     ]
    },
    {
     "data": {
      "text/plain": [
       "416649"
      ]
     },
     "execution_count": 3,
     "metadata": {},
     "output_type": "execute_result"
    }
   ],
   "source": [
    "num=int(input(\"enter any number : \"))\n",
    "\n",
    "def square_digits(num):\n",
    "    k=\"\".join(map(str,[int(i)*int(i) for i in str(num)]))\n",
    "    return int(k)\n",
    " \n",
    "square_digits(num)"
   ]
  },
  {
   "cell_type": "markdown",
   "metadata": {},
   "source": [
    "#### Question 4\n",
    "#### Create a function that sorts a list and removes all duplicate items from it.\n",
    "#### Examples\n",
    "#### setify([1, 3, 3, 5, 5]) ➞ [1, 3, 5]\n",
    "\n",
    "#### setify([4, 4, 4, 4]) ➞ [4]\n",
    "\n",
    "#### setify([5, 7, 8, 9, 10, 15]) ➞ [5, 7, 8, 9, 10, 15]\n",
    "\n",
    "#### setify([3, 3, 3, 2, 1]) ➞ [1, 2, 3]\n"
   ]
  },
  {
   "cell_type": "code",
   "execution_count": 4,
   "metadata": {},
   "outputs": [
    {
     "data": {
      "text/plain": [
       "[1, 3, 5]"
      ]
     },
     "execution_count": 4,
     "metadata": {},
     "output_type": "execute_result"
    }
   ],
   "source": [
    "l=[1, 3, 3, 5, 5]\n",
    "\n",
    "def setify(l):\n",
    "    m=set(l)\n",
    "    return list(m)\n",
    "\n",
    "setify(l)"
   ]
  },
  {
   "cell_type": "markdown",
   "metadata": {},
   "source": [
    "#### Question 5\n",
    "#### Create a function that returns the mean of all digits.\n",
    "#### Examples\n",
    "#### mean(42) ➞ 3\n",
    "\n",
    "#### mean(12345) ➞ 3\n",
    "\n",
    "#### mean(666) ➞ 6\n",
    "#### Notes\n",
    "#### •\tThe mean of all digits is the sum of digits / how many digits there are (e.g. mean of digits in 512 is (5+1+2)/3(number of digits) = 8/3=2).\n",
    "#### •\tThe mean will always be an integer.\n"
   ]
  },
  {
   "cell_type": "code",
   "execution_count": 5,
   "metadata": {},
   "outputs": [
    {
     "name": "stdout",
     "output_type": "stream",
     "text": [
      "enter number : 12345\n"
     ]
    },
    {
     "data": {
      "text/plain": [
       "3.0"
      ]
     },
     "execution_count": 5,
     "metadata": {},
     "output_type": "execute_result"
    }
   ],
   "source": [
    "num=int(input(\"enter number : \"))\n",
    "n=len(str(num))\n",
    "\n",
    "def mean(num):\n",
    "    sum=0\n",
    "    while(num>0):\n",
    "        d=num%10\n",
    "        num=num//10\n",
    "        sum+=d\n",
    "    return sum/n\n",
    "\n",
    "mean(num)"
   ]
  }
 ],
 "metadata": {
  "kernelspec": {
   "display_name": "Python 3",
   "language": "python",
   "name": "python3"
  },
  "language_info": {
   "codemirror_mode": {
    "name": "ipython",
    "version": 3
   },
   "file_extension": ".py",
   "mimetype": "text/x-python",
   "name": "python",
   "nbconvert_exporter": "python",
   "pygments_lexer": "ipython3",
   "version": "3.7.4"
  }
 },
 "nbformat": 4,
 "nbformat_minor": 2
}
