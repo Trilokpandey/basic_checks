{
 "cells": [
  {
   "cell_type": "markdown",
   "metadata": {},
   "source": [
    "## Question1. Write a function that stutters a word as if someone is struggling to read it. The first two letters are repeated twice with an ellipsis ... and space after each, and then the word is pronounced with a question mark ?.\n",
    "## Examples\n",
    "## stutter(\"incredible\") ➞ \"in... in... incredible?\"\n",
    "\n",
    "## stutter(\"enthusiastic\") ➞ \"en... en... enthusiastic?\"\n",
    "\n",
    "## stutter(\"outstanding\") ➞ \"ou... ou... outstanding?\"\n",
    "\n",
    "## Hint :- Assume all input is in lower case and at least two characters long.\n"
   ]
  },
  {
   "cell_type": "code",
   "execution_count": 1,
   "metadata": {},
   "outputs": [
    {
     "name": "stdout",
     "output_type": "stream",
     "text": [
      "enter word : incredible\n",
      "in...in...incredible?\n"
     ]
    }
   ],
   "source": [
    "word = input(\"enter word : \")\n",
    "\n",
    "def utter_method(word):\n",
    "    if len(word)>2:\n",
    "        print('{}...{}...{}?'.format(word[:2],word[:2],word))\n",
    "    \n",
    "utter_method(word)"
   ]
  },
  {
   "cell_type": "markdown",
   "metadata": {},
   "source": [
    "## Question 2.Create a function that takes an angle in radians and returns the corresponding angle in degrees rounded to one decimal place.\n",
    "## Examples\n",
    "## radians_to_degrees(1) ➞ 57.3\n",
    "\n",
    "## radians_to_degrees(20) ➞ 1145.9\n",
    "\n",
    "## radians_to_degrees(50) ➞ 2864.8\n"
   ]
  },
  {
   "cell_type": "code",
   "execution_count": 2,
   "metadata": {},
   "outputs": [
    {
     "name": "stdout",
     "output_type": "stream",
     "text": [
      "enter angle in radian : 20\n"
     ]
    },
    {
     "data": {
      "text/plain": [
       "1145.9"
      ]
     },
     "execution_count": 2,
     "metadata": {},
     "output_type": "execute_result"
    }
   ],
   "source": [
    "import math\n",
    "rad=int(input(\"enter angle in radian : \"))\n",
    "def radian_to_degree(rad):\n",
    "    return round(rad*(180/(math.pi)),1)\n",
    "\n",
    "radian_to_degree(rad)"
   ]
  },
  {
   "cell_type": "markdown",
   "metadata": {},
   "source": [
    "## Question 3. In this challenge, establish if a given integer num is a Curzon number. If 1 plus 2 elevated to num is exactly divisible by 1 plus 2 multiplied by num, then num is a Curzon number.\n",
    "## Given a non-negative integer num, implement a function that returns True if num is a Curzon number, or False otherwise.\n",
    "## Examples\n",
    "## is_curzon(5) ➞ True\n",
    "## # 2 ** 5 + 1 = 33\n",
    "## # 2 * 5 + 1 = 11\n",
    "## # 33 is a multiple of 11\n",
    "\n",
    "## is_curzon(10) ➞ False\n",
    "## # 2 ** 10 + 1 = 1025\n",
    "## # 2 * 10 + 1 = 21\n",
    "## # 1025 is not a multiple of 21\n",
    "\n",
    "## is_curzon(14) ➞ True\n",
    "## # 2 ** 14 + 1 = 16385\n",
    "## # 2 * 14 + 1 = 29\n",
    "## # 16385 is a multiple of 29\n"
   ]
  },
  {
   "cell_type": "code",
   "execution_count": 3,
   "metadata": {},
   "outputs": [
    {
     "name": "stdout",
     "output_type": "stream",
     "text": [
      "enter number : 14\n"
     ]
    },
    {
     "data": {
      "text/plain": [
       "True"
      ]
     },
     "execution_count": 3,
     "metadata": {},
     "output_type": "execute_result"
    }
   ],
   "source": [
    "num = int(input(\"enter number : \"))\n",
    "def check_curzon_number(num):\n",
    "    if (2**num+1)%(2*num+1)==0:\n",
    "        return True\n",
    "    else:\n",
    "        return False\n",
    "    \n",
    "check_curzon_number(num)"
   ]
  },
  {
   "cell_type": "markdown",
   "metadata": {},
   "source": [
    "## Question 4.Given the side length x find the area of a hexagon.\n",
    " \n",
    "## Examples\n",
    "## area_of_hexagon(1) ➞ 2.6\n",
    "\n",
    "## area_of_hexagon(2) ➞ 10.4\n",
    "\n",
    "## area_of_hexagon(3) ➞ 23.4\n"
   ]
  },
  {
   "cell_type": "code",
   "execution_count": 4,
   "metadata": {},
   "outputs": [
    {
     "name": "stdout",
     "output_type": "stream",
     "text": [
      "enter the length of hexagon : 3\n"
     ]
    },
    {
     "data": {
      "text/plain": [
       "23.382685902179844"
      ]
     },
     "execution_count": 4,
     "metadata": {},
     "output_type": "execute_result"
    }
   ],
   "source": [
    "import math\n",
    "length= int(input(\"enter the length of hexagon : \"))\n",
    "\n",
    "def hex_area_cal(length):\n",
    "    return 1.5*math.sqrt(3)*length**2\n",
    "\n",
    "hex_area_cal(length)"
   ]
  },
  {
   "cell_type": "markdown",
   "metadata": {},
   "source": [
    "## Question 5. Create a function that returns a base-2 (binary) representation of a base-10 (decimal) string number. To convert is simple: ((2) means base-2 and (10) means base-10) 010101001(2) = 1 + 8 + 32 + 128.\n",
    "## Going from right to left, the value of the most right bit is 1, now from that every bit to the left will be x2 the value, value of an 8 bit binary numbers are (256, 128, 64, 32, 16, 8, 4, 2, 1).\n",
    "## Examples\n",
    "## binary(1) ➞ \"1\"\n",
    "## # 1*1 = 1\n",
    "\n",
    "## binary(5) ➞ \"101\"\n",
    "## # 1*1 + 1*4 = 5\n",
    "\n",
    "## binary(10) ➞ \"1010\"\n",
    "## # 1*2 + 1*8 = 10\n"
   ]
  },
  {
   "cell_type": "code",
   "execution_count": 5,
   "metadata": {},
   "outputs": [
    {
     "name": "stdout",
     "output_type": "stream",
     "text": [
      "enter any decimal number :10\n"
     ]
    },
    {
     "data": {
      "text/plain": [
       "'1010'"
      ]
     },
     "execution_count": 5,
     "metadata": {},
     "output_type": "execute_result"
    }
   ],
   "source": [
    "num = int(input(\"enter any decimal number :\"))\n",
    "\n",
    "def decimal_to_binary(num):\n",
    "    l=[]\n",
    "    while(num >= 1):\n",
    "        rem = num % 2\n",
    "        l.append(rem)\n",
    "        num = num //2\n",
    "    return \"\".join(map(str,l[::-1]))\n",
    "\n",
    "decimal_to_binary(num)"
   ]
  },
  {
   "cell_type": "code",
   "execution_count": null,
   "metadata": {},
   "outputs": [],
   "source": []
  }
 ],
 "metadata": {
  "kernelspec": {
   "display_name": "Python 3",
   "language": "python",
   "name": "python3"
  },
  "language_info": {
   "codemirror_mode": {
    "name": "ipython",
    "version": 3
   },
   "file_extension": ".py",
   "mimetype": "text/x-python",
   "name": "python",
   "nbconvert_exporter": "python",
   "pygments_lexer": "ipython3",
   "version": "3.7.4"
  }
 },
 "nbformat": 4,
 "nbformat_minor": 2
}
