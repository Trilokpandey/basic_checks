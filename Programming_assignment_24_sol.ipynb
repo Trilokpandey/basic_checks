{
 "cells": [
  {
   "cell_type": "markdown",
   "metadata": {},
   "source": [
    "#### Question1\n",
    "#### Create a function that takes an integer and returns a list from 1 to the given number, where:\n",
    "#### 1.If the number can be divided evenly by 4, amplify it by 10 (i.e. return 10 times the number).\n",
    "#### 2.If the number cannot be divided evenly by 4, simply return the number.\n",
    "#### Examples\n",
    "#### amplify(4) ➞ [1, 2, 3, 40]\n",
    "\n",
    "#### amplify(3) ➞ [1, 2, 3]\n",
    "\n",
    "#### amplify(25) ➞ [1, 2, 3, 40, 5, 6, 7, 80, 9, 10, 11, 120, 13, 14, 15, 160, 17, 18, 19, 200, 21, 22, 23, 240, 25]\n",
    "#### Notes\n",
    "#### •The given integer will always be equal to or greater than 1.\n",
    "#### •Include the number (see example above).\n",
    "#### •To perform this problem with its intended purpose, try doing it with list comprehensions. If that's too difficult, just solve the challenge any way you can.\n"
   ]
  },
  {
   "cell_type": "code",
   "execution_count": 25,
   "metadata": {},
   "outputs": [
    {
     "name": "stdout",
     "output_type": "stream",
     "text": [
      "enter number : 8\n"
     ]
    },
    {
     "data": {
      "text/plain": [
       "[1, 2, 3, 40, 5, 6, 7, 80]"
      ]
     },
     "execution_count": 25,
     "metadata": {},
     "output_type": "execute_result"
    }
   ],
   "source": [
    "num=int(input(\"enter number : \"))\n",
    "\n",
    "def amplify(num):\n",
    "    l1=[]\n",
    "    for i in range(1,num+1):\n",
    "        if i%4==0:\n",
    "            l1.append(i*10)\n",
    "        else:\n",
    "            l1.append(i)\n",
    "    return l1\n",
    "\n",
    "amplify(num)\n",
    "        "
   ]
  },
  {
   "cell_type": "markdown",
   "metadata": {},
   "source": [
    "#### Question2\n",
    "#### Create a function that takes a list of numbers and return the number that's unique.\n",
    "#### Examples\n",
    "#### unique([3, 3, 3, 7, 3, 3]) ➞ 7\n",
    "\n",
    "#### unique([0, 0, 0.77, 0, 0]) ➞ 0.77\n",
    "\n",
    "#### unique([0, 1, 1, 1, 1, 1, 1, 1]) ➞ 0\n",
    "#### Notes\n",
    "#### Test cases will always have exactly one unique number while all others are the same.\n"
   ]
  },
  {
   "cell_type": "code",
   "execution_count": 26,
   "metadata": {},
   "outputs": [
    {
     "data": {
      "text/plain": [
       "0.77"
      ]
     },
     "execution_count": 26,
     "metadata": {},
     "output_type": "execute_result"
    }
   ],
   "source": [
    "l=[2,2,3,3,0.77,2 ]\n",
    "\n",
    "def unique(l):\n",
    "    count=0\n",
    "    m=list(set(l))\n",
    "    for i in l:\n",
    "        if i==m[0]:\n",
    "            count+=1\n",
    "    if count<2:\n",
    "        return m[0]\n",
    "    else:\n",
    "        return m[1]\n",
    "   \n",
    "    \n",
    "unique(l)        \n",
    "    "
   ]
  },
  {
   "cell_type": "markdown",
   "metadata": {},
   "source": [
    "#### Question3\n",
    "#### Your task is to create a Circle constructor that creates a circle with a radius provided by an argument. The circles constructed must have two getters getArea() (PIr^2) and getPerimeter() (2PI*r) which give both respective areas and perimeter (circumference).\n",
    "#### For help with this class, I have provided you with a Rectangle constructor which you can use as a base example.\n",
    "#### Examples\n",
    "#### circy = Circle(11)\n",
    "#### circy.getArea()\n",
    "\n",
    "#### # Should return 380.132711084365\n",
    "\n",
    "#### circy = Circle(4.44)\n",
    "#### circy.getPerimeter()\n",
    "\n",
    "#### # Should return 27.897342763877365\n",
    "#### Notes\n",
    "#### Round results up to the nearest integer.\n"
   ]
  },
  {
   "cell_type": "code",
   "execution_count": 3,
   "metadata": {},
   "outputs": [
    {
     "name": "stdout",
     "output_type": "stream",
     "text": [
      "380.132711084365\n",
      "69.11503837897544\n"
     ]
    }
   ],
   "source": [
    "import math\n",
    "\n",
    "class circle:\n",
    "    def __init__(self,radius):\n",
    "        self.radius=radius\n",
    "        \n",
    "    def getArea(self):\n",
    "        return math.pi*self.radius**2\n",
    "    \n",
    "    def getPerimeter(self):\n",
    "        return 2*math.pi*self.radius\n",
    "    \n",
    "circy=circle(11)\n",
    "print(circy.getArea())\n",
    "print(circy.getPerimeter())"
   ]
  },
  {
   "cell_type": "markdown",
   "metadata": {},
   "source": [
    "#### Question4\n",
    "#### Create a function that takes a list of strings and return a list, sorted from shortest to longest.\n",
    "#### Examples\n",
    "#### sort_by_length([\"Google\", \"Apple\", \"Microsoft\"])\n",
    "#### ➞ [\"Apple\", \"Google\", \"Microsoft\"]\n",
    "\n",
    "#### sort_by_length([\"Leonardo\", \"Michelangelo\", \"Raphael\", \"Donatello\"])\n",
    "#### ➞ [\"Raphael\", \"Leonardo\", \"Donatello\", \"Michelangelo\"]\n",
    "\n",
    "#### sort_by_length([\"Turing\", \"Einstein\", \"Jung\"])\n",
    "#### ➞ [\"Jung\", \"Turing\", \"Einstein\"]\n",
    "#### Notes\n",
    "#### All test cases contain lists with strings of different lengths, so you won't have to deal with multiple strings of the same length.\n"
   ]
  },
  {
   "cell_type": "code",
   "execution_count": 10,
   "metadata": {},
   "outputs": [
    {
     "data": {
      "text/plain": [
       "['Raphael', 'Leonardo', 'Donatello', 'Michelangelo']"
      ]
     },
     "execution_count": 10,
     "metadata": {},
     "output_type": "execute_result"
    }
   ],
   "source": [
    "l=[\"Leonardo\", \"Michelangelo\", \"Raphael\", \"Donatello\"]\n",
    "\n",
    "def sort_by_length(l):\n",
    "    k=[]\n",
    "    for i in l:\n",
    "        k.append(len(i))\n",
    "    m=[]\n",
    "    for i in sorted(k):\n",
    "        m.append(k.index(i))\n",
    "    j=[]\n",
    "    for i in range(len(l)):\n",
    "        j.append(l[m[i]])\n",
    "    return j\n",
    "\n",
    "sort_by_length(l)            "
   ]
  },
  {
   "cell_type": "markdown",
   "metadata": {},
   "source": [
    "#### Question5\n",
    "#### Create a function that validates whether three given integers form a Pythagorean triplet. The sum of the squares of the two smallest integers must equal the square of the largest number to be validated.\n",
    "\n",
    "\n",
    "#### Examples\n",
    "#### is_triplet(3, 4, 5) ➞ True\n",
    "#### # 3² + 4² = 25\n",
    "#### # 5² = 25\n",
    "\n",
    "#### is_triplet(13, 5, 12) ➞ True\n",
    "#### # 5² + 12² = 169\n",
    "#### # 13² = 169\n",
    "\n",
    "#### is_triplet(1, 2, 3) ➞ False\n",
    "#### # 1² + 2² = 5\n",
    "#### # 3² = 9\n",
    "#### Notes\n",
    "#### Numbers may not be given in a sorted order.\n"
   ]
  },
  {
   "cell_type": "code",
   "execution_count": 22,
   "metadata": {},
   "outputs": [
    {
     "name": "stdout",
     "output_type": "stream",
     "text": [
      "enter the first number of triplet : 1\n",
      "enter the second number of triplet : 2\n",
      "enter the third number of triplet : 3\n"
     ]
    },
    {
     "data": {
      "text/plain": [
       "False"
      ]
     },
     "execution_count": 22,
     "metadata": {},
     "output_type": "execute_result"
    }
   ],
   "source": [
    "num1=int(input(\"enter the first number of triplet : \"))\n",
    "num2=int(input(\"enter the second number of triplet : \"))\n",
    "num3=int(input(\"enter the third number of triplet : \"))\n",
    "\n",
    "def is_triplet(num1,num2,num3):\n",
    "    if num1 > num2 and num1 >num3:\n",
    "        largest=num1\n",
    "        if largest**2==num2**2+num3**2:\n",
    "            return True\n",
    "        else:\n",
    "            return False\n",
    "    elif num2 > num1 and num2 > num3:\n",
    "        largest=num2\n",
    "        if largest**2==num1**2+num3**2:\n",
    "            return True\n",
    "        else:\n",
    "            return False\n",
    "    else:\n",
    "        largest=num3\n",
    "        if largest**2==num1**2+num2**2:\n",
    "            return True\n",
    "        else:\n",
    "            return False\n",
    "        \n",
    "is_triplet(num1,num2,num3)\n",
    "    "
   ]
  }
 ],
 "metadata": {
  "kernelspec": {
   "display_name": "Python 3",
   "language": "python",
   "name": "python3"
  },
  "language_info": {
   "codemirror_mode": {
    "name": "ipython",
    "version": 3
   },
   "file_extension": ".py",
   "mimetype": "text/x-python",
   "name": "python",
   "nbconvert_exporter": "python",
   "pygments_lexer": "ipython3",
   "version": "3.7.4"
  }
 },
 "nbformat": 4,
 "nbformat_minor": 2
}
