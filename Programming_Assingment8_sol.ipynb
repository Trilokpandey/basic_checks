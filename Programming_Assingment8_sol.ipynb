{
 "cells": [
  {
   "cell_type": "markdown",
   "metadata": {},
   "source": [
    "## 1.Write a Python Program to Add Two Matrices?"
   ]
  },
  {
   "cell_type": "code",
   "execution_count": 1,
   "metadata": {},
   "outputs": [
    {
     "name": "stdout",
     "output_type": "stream",
     "text": [
      "[4, 6, 6]\n",
      "[8, 10, 10]\n",
      "[11, 14, 17]\n"
     ]
    }
   ],
   "source": [
    "x=[\n",
    "  [2,3,4],\n",
    "  [5,6,7],\n",
    "  [2,5,8]\n",
    "  ]\n",
    "\n",
    "y=[\n",
    "    [2,3,2],\n",
    "    [3,4,3],\n",
    "    [9,9,9]\n",
    "]\n",
    "\n",
    "z=[\n",
    "  [0,0,0],\n",
    "  [0,0,0],\n",
    "  [0,0,0]\n",
    "  ]\n",
    "\n",
    "for i in range(len(x)):\n",
    "    for j in range(len(x[0])):\n",
    "        z[i][j]=x[i][j]+y[i][j]\n",
    "        \n",
    "for i in z:\n",
    "    print(i)"
   ]
  },
  {
   "cell_type": "markdown",
   "metadata": {},
   "source": [
    "## 2.Write a Python Program to Multiply Two Matrices?"
   ]
  },
  {
   "cell_type": "code",
   "execution_count": 2,
   "metadata": {},
   "outputs": [
    {
     "name": "stdout",
     "output_type": "stream",
     "text": [
      "[49, 54, 49]\n",
      "[91, 102, 91]\n",
      "[91, 98, 91]\n"
     ]
    }
   ],
   "source": [
    "x=[\n",
    "  [2,3,4],\n",
    "  [5,6,7],\n",
    "  [2,5,8]\n",
    "  ]\n",
    "\n",
    "y=[\n",
    "    [2,3,2],\n",
    "    [3,4,3],\n",
    "    [9,9,9]\n",
    "]\n",
    "\n",
    "z=[\n",
    "  [0,0,0],\n",
    "  [0,0,0],\n",
    "  [0,0,0]\n",
    "  ]\n",
    "\n",
    "for i in range(len(x)):\n",
    "    for j in range(len(y[0])):\n",
    "        for m in range(len(y)):\n",
    "            z[i][j] += x[i][m] * y[m][j]\n",
    "        \n",
    "\n",
    "for i in z:\n",
    "    print(i)"
   ]
  },
  {
   "cell_type": "markdown",
   "metadata": {},
   "source": [
    "## 3.Write a Python Program to Transpose a Matrix?"
   ]
  },
  {
   "cell_type": "code",
   "execution_count": 3,
   "metadata": {},
   "outputs": [
    {
     "name": "stdout",
     "output_type": "stream",
     "text": [
      "[2, 5]\n",
      "[3, 6]\n",
      "[4, 7]\n"
     ]
    }
   ],
   "source": [
    "x=[\n",
    "  [2,3,4],\n",
    "  [5,6,7]\n",
    "  ]\n",
    "\n",
    "z=[[0,0],[0,0],[0,0]]\n",
    "\n",
    "for i in range(len(x)):\n",
    "    for j in range(len(x[0])):\n",
    "        z[j][i]=x[i][j]\n",
    "        \n",
    "for i in z:\n",
    "    print(i)"
   ]
  },
  {
   "cell_type": "markdown",
   "metadata": {},
   "source": [
    "## 4.Write a Python Program to Sort Words in Alphabetic Order?"
   ]
  },
  {
   "cell_type": "code",
   "execution_count": 4,
   "metadata": {},
   "outputs": [
    {
     "name": "stdout",
     "output_type": "stream",
     "text": [
      "enter a string :is india a democratic country?\n",
      "a country? democratic india is "
     ]
    }
   ],
   "source": [
    "str=input(\"enter a string :\")\n",
    "\n",
    "def alphaarrange(str):\n",
    "    word=str.lower().split()\n",
    "    word.sort()\n",
    "    for i in word:\n",
    "        print(''.join(i),end=\" \")    \n",
    "            \n",
    "alphaarrange(str)\n"
   ]
  },
  {
   "cell_type": "markdown",
   "metadata": {},
   "source": [
    "## 5.Write a Python Program to Remove Punctuation From a String?"
   ]
  },
  {
   "cell_type": "code",
   "execution_count": 5,
   "metadata": {},
   "outputs": [
    {
     "name": "stdout",
     "output_type": "stream",
     "text": [
      "enter a string :my nA@m$e i^s p$and*e(y\n",
      "my name is pandey"
     ]
    }
   ],
   "source": [
    "str=input(\"enter a string :\")\n",
    "\n",
    "def punctuationRemove(str):\n",
    "    z='''!()-[]{};:'\"\\,<>./?@#$%^&*_~'''\n",
    "    for i in str.lower():\n",
    "        if i not in z:\n",
    "            print(''.join(i),end=\"\")\n",
    "        else:\n",
    "            pass\n",
    "\n",
    "punctuationRemove(str)        "
   ]
  },
  {
   "cell_type": "code",
   "execution_count": null,
   "metadata": {},
   "outputs": [],
   "source": []
  }
 ],
 "metadata": {
  "kernelspec": {
   "display_name": "Python 3",
   "language": "python",
   "name": "python3"
  },
  "language_info": {
   "codemirror_mode": {
    "name": "ipython",
    "version": 3
   },
   "file_extension": ".py",
   "mimetype": "text/x-python",
   "name": "python",
   "nbconvert_exporter": "python",
   "pygments_lexer": "ipython3",
   "version": "3.7.4"
  }
 },
 "nbformat": 4,
 "nbformat_minor": 2
}
