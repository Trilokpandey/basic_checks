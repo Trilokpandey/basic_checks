{
 "cells": [
  {
   "cell_type": "markdown",
   "metadata": {},
   "source": [
    "## 1.Write a Python program to Extract Unique values dictionary values?"
   ]
  },
  {
   "cell_type": "code",
   "execution_count": 1,
   "metadata": {},
   "outputs": [
    {
     "data": {
      "text/plain": [
       "[1, 2, 3, 4, 5, 6, 7, 8, 10, 12]"
      ]
     },
     "execution_count": 1,
     "metadata": {},
     "output_type": "execute_result"
    }
   ],
   "source": [
    "mydict = {'A' : [1, 3, 5, 4],\n",
    "         'B' : [4, 6, 8, 10],\n",
    "         'C' : [6, 12, 4 ,8],\n",
    "         'D' : [5, 7, 2]\n",
    "        }\n",
    "def uniquevalue(mydict):\n",
    "    l=[]\n",
    "    for value in mydict.values():\n",
    "        for i in value:\n",
    "            l.append(i)\n",
    "    return list(set(l)) \n",
    "\n",
    "uniquevalue(mydict)"
   ]
  },
  {
   "cell_type": "markdown",
   "metadata": {},
   "source": [
    "## 2.Write a Python program to find the sum of all items in a dictionary?"
   ]
  },
  {
   "cell_type": "code",
   "execution_count": 2,
   "metadata": {},
   "outputs": [
    {
     "name": "stdout",
     "output_type": "stream",
     "text": [
      "sum : 140\n"
     ]
    }
   ],
   "source": [
    "d={'a':20,'b':30,'c':40,'d':50}\n",
    "\n",
    "def sum(mydict):\n",
    "    sum=0\n",
    "    for key,value in mydict.items():\n",
    "        sum+=value\n",
    "    return sum\n",
    "\n",
    "\n",
    "print(\"sum :\", sum(d))"
   ]
  },
  {
   "cell_type": "markdown",
   "metadata": {},
   "source": [
    "## 3.Write a Python program to Merging two Dictionaries?"
   ]
  },
  {
   "cell_type": "code",
   "execution_count": 3,
   "metadata": {},
   "outputs": [
    {
     "data": {
      "text/plain": [
       "{'A': [1, 3, 5, 4], 'B': [4, 6, 8, 10], 'C': [6, 12, 4, 8], 'D': [5, 7, 2]}"
      ]
     },
     "execution_count": 3,
     "metadata": {},
     "output_type": "execute_result"
    }
   ],
   "source": [
    "dict1 = {'A' : [1, 3, 5, 4],\n",
    "         'B' : [4, 6, 8, 10],\n",
    "        }\n",
    "\n",
    "dict2 ={\n",
    "          'C' : [6, 12, 4 ,8],\n",
    "         'D'  : [5, 7, 2]\n",
    "        }\n",
    "\n",
    "def mergeDict(dict1,dict2):\n",
    "    dict1.update(dict2)\n",
    "    return dict1\n",
    "\n",
    "mergeDict(dict1,dict2)"
   ]
  },
  {
   "cell_type": "markdown",
   "metadata": {},
   "source": [
    "## 4.Write a Python program to convert key-values list to flat dictionary?"
   ]
  },
  {
   "cell_type": "code",
   "execution_count": 4,
   "metadata": {},
   "outputs": [
    {
     "data": {
      "text/plain": [
       "{1: 'ram', 2: 'shyam', 3: 'mohan', 4: 'mahesh'}"
      ]
     },
     "execution_count": 4,
     "metadata": {},
     "output_type": "execute_result"
    }
   ],
   "source": [
    "mydict = {'roll_no' : [1, 2, 3, 4],\n",
    "         'name' : [\"ram\",\"shyam\",\"mohan\",\"mahesh\"]\n",
    "        }\n",
    "\n",
    "dict(zip(mydict['roll_no'],mydict['name']))"
   ]
  },
  {
   "cell_type": "markdown",
   "metadata": {},
   "source": [
    "## 5.Write a Python program to insertion at the beginning in OrderedDict?"
   ]
  },
  {
   "cell_type": "code",
   "execution_count": 5,
   "metadata": {},
   "outputs": [
    {
     "name": "stdout",
     "output_type": "stream",
     "text": [
      "original dictionary :  OrderedDict([('ram', '1'), ('rohan', '2')])\n",
      "\n",
      "\n",
      "dictionary after insertion :  OrderedDict([('key1', 'value'), ('ram', '1'), ('rohan', '2')])\n"
     ]
    }
   ],
   "source": [
    "from collections import OrderedDict\n",
    "\n",
    "mydict = OrderedDict([('ram','1'),('rohan','2')])\n",
    "\n",
    "print(\"original dictionary : \",mydict)\n",
    "\n",
    "mydict.update({\"key1\":\"value\"})\n",
    "mydict.move_to_end('key1',last=False)\n",
    "print(\"\\n\")\n",
    "print(\"dictionary after insertion : \",mydict)"
   ]
  },
  {
   "cell_type": "markdown",
   "metadata": {},
   "source": [
    "## 6.Write a Python program to check order of character in string using OrderedDict()?"
   ]
  },
  {
   "cell_type": "code",
   "execution_count": 6,
   "metadata": {},
   "outputs": [
    {
     "name": "stdout",
     "output_type": "stream",
     "text": [
      "enter the input string : ram lakhan\n",
      "enter the pattern string : rh\n"
     ]
    },
    {
     "data": {
      "text/plain": [
       "'pattern is correct'"
      ]
     },
     "execution_count": 6,
     "metadata": {},
     "output_type": "execute_result"
    }
   ],
   "source": [
    "from collections import OrderedDict\n",
    "\n",
    "inputs=input(\"enter the input string : \")\n",
    "pattern=input(\"enter the pattern string : \")\n",
    "\n",
    "\n",
    "def orderCheck(inputs,pattern):\n",
    "    my_dict = OrderedDict.fromkeys(inputs)\n",
    "    pattern_length = 0\n",
    "    for key,value in my_dict.items():\n",
    "        if(key == pattern[pattern_length]):\n",
    "            pattern_length = pattern_length + 1\n",
    "        \n",
    "        \n",
    "        if(pattern_length==len(pattern)):\n",
    "            return 'pattern is correct'\n",
    "        \n",
    "    return 'pattern order is incorrect'\n",
    "\n",
    "\n",
    "orderCheck(inputs,pattern)            "
   ]
  },
  {
   "cell_type": "markdown",
   "metadata": {},
   "source": [
    "## 7.Write a Python program to sort Python Dictionaries by Key or Value?"
   ]
  },
  {
   "cell_type": "code",
   "execution_count": 7,
   "metadata": {},
   "outputs": [
    {
     "data": {
      "text/plain": [
       "[('age', [3000, 12, 5, 2]),\n",
       " ('dob', [1990, 1991, 2000, 1980]),\n",
       " ('roll_no', [11, 22, 330, 44])]"
      ]
     },
     "execution_count": 7,
     "metadata": {},
     "output_type": "execute_result"
    }
   ],
   "source": [
    "mydict = {'roll_no' : [11, 22, 330, 44],\n",
    "         'age' : [3000,12,5,2],\n",
    "          'dob':[1990,1991,2000,1980]\n",
    "        }\n",
    "\n",
    "# sorted(mydict.keys())\n",
    "#sorted(mydict.values())\n",
    "sorted(mydict.items())"
   ]
  },
  {
   "cell_type": "code",
   "execution_count": null,
   "metadata": {},
   "outputs": [],
   "source": []
  }
 ],
 "metadata": {
  "kernelspec": {
   "display_name": "Python 3",
   "language": "python",
   "name": "python3"
  },
  "language_info": {
   "codemirror_mode": {
    "name": "ipython",
    "version": 3
   },
   "file_extension": ".py",
   "mimetype": "text/x-python",
   "name": "python",
   "nbconvert_exporter": "python",
   "pygments_lexer": "ipython3",
   "version": "3.7.4"
  }
 },
 "nbformat": 4,
 "nbformat_minor": 2
}
