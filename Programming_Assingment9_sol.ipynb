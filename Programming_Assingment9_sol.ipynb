{
 "cells": [
  {
   "cell_type": "markdown",
   "metadata": {},
   "source": [
    "## 1.Write a Python program to check if the given number is a Disarium Number?"
   ]
  },
  {
   "cell_type": "code",
   "execution_count": 1,
   "metadata": {},
   "outputs": [
    {
     "name": "stdout",
     "output_type": "stream",
     "text": [
      "enter number : 175\n",
      "\n",
      "\n",
      "175 is a disarium number\n"
     ]
    }
   ],
   "source": [
    "number=int(input(\"enter number : \"))\n",
    "print(\"\\n\")\n",
    "digit_len=len(str(number))\n",
    "sum=0\n",
    "num=number\n",
    "\n",
    "while(num!=0):\n",
    "    d=num %10\n",
    "    sum = sum + pow(d,digit_len)\n",
    "    digit_len = digit_len -1\n",
    "    num = num//10\n",
    "\n",
    "if(sum==number):\n",
    "    print(\"{} is a disarium number\".format(number))\n",
    "else:\n",
    "    print(\"{} is not a disarium number\".format(number))"
   ]
  },
  {
   "cell_type": "markdown",
   "metadata": {},
   "source": [
    "## 2.Write a Python program to print all disarium numbers between 1 to 100?"
   ]
  },
  {
   "cell_type": "code",
   "execution_count": 2,
   "metadata": {},
   "outputs": [
    {
     "name": "stdout",
     "output_type": "stream",
     "text": [
      "1 2 3 4 5 6 7 8 9 89 "
     ]
    }
   ],
   "source": [
    "for number in range(1,100):\n",
    "    digit_len=len(str(number))\n",
    "    num=number\n",
    "    sum=0\n",
    "    \n",
    "    while(num!=0):\n",
    "        d=num %10\n",
    "        sum = sum + pow(d,digit_len)\n",
    "        digit_len = digit_len -1\n",
    "        num = num//10\n",
    "        \n",
    "    if(sum==number):\n",
    "        print(number,end=\" \")\n",
    "        "
   ]
  },
  {
   "cell_type": "markdown",
   "metadata": {},
   "source": [
    "## 3.Write a Python program to check if the given number is Happy Number?"
   ]
  },
  {
   "cell_type": "code",
   "execution_count": 3,
   "metadata": {},
   "outputs": [
    {
     "name": "stdout",
     "output_type": "stream",
     "text": [
      "enter number : 13\n",
      "13 is a happy number\n"
     ]
    }
   ],
   "source": [
    "number=int(input(\"enter number : \"))\n",
    "sum=number\n",
    "\n",
    "def sum_cal(number):\n",
    "    sum = 0\n",
    "    while(number > 0):\n",
    "        d = number % 10\n",
    "        sum = sum + pow(d,2)\n",
    "        number = number // 10\n",
    "    return sum\n",
    "\n",
    "\n",
    "\n",
    "while(sum != 1 and sum != 4):\n",
    "    sum = sum_cal(sum)\n",
    "\n",
    "if(sum == 1):\n",
    "    print(\"{} is a happy number\".format(number))\n",
    "\n",
    "elif(sum == 4):\n",
    "    print(\"{} is not a unhappy number\".format(number))\n"
   ]
  },
  {
   "cell_type": "markdown",
   "metadata": {},
   "source": [
    "## 4.Write a Python program to print all happy numbers between 1 and 100?"
   ]
  },
  {
   "cell_type": "code",
   "execution_count": 4,
   "metadata": {},
   "outputs": [
    {
     "name": "stdout",
     "output_type": "stream",
     "text": [
      "1 7 10 13 19 23 28 31 32 44 49 68 70 79 82 86 91 94 97 "
     ]
    }
   ],
   "source": [
    "for number in range(1,100):\n",
    "    sum=number\n",
    "    def sum_cal(number):\n",
    "        sum = 0\n",
    "        while(number > 0):\n",
    "            d = number % 10\n",
    "            sum = sum + pow(d,2)\n",
    "            number = number // 10\n",
    "        return sum\n",
    "    \n",
    "    while(sum != 1 and sum != 4):\n",
    "        sum = sum_cal(sum)\n",
    "        \n",
    "    if(sum == 1):\n",
    "        print(number,end=\" \")\n",
    "    \n",
    "    "
   ]
  },
  {
   "cell_type": "markdown",
   "metadata": {},
   "source": [
    "## 5.Write a Python program to determine whether the given number is a Harshad Number?"
   ]
  },
  {
   "cell_type": "code",
   "execution_count": 5,
   "metadata": {},
   "outputs": [
    {
     "name": "stdout",
     "output_type": "stream",
     "text": [
      "enter number : 156\n",
      "156 is a harshad number\n"
     ]
    }
   ],
   "source": [
    "number=int(input(\"enter number : \"))\n",
    "num=number\n",
    "\n",
    "sum = 0\n",
    "while(number > 0):\n",
    "    d = number % 10\n",
    "    sum = sum + d\n",
    "    number = number // 10\n",
    "\n",
    "\n",
    "if(num % sum == 0):\n",
    "    print(\"{} is a harshad number\".format(num))\n",
    "else:\n",
    "    print(\"{} is not a harshad number\".format(num))\n"
   ]
  },
  {
   "cell_type": "markdown",
   "metadata": {},
   "source": [
    "## 6.Write a Python program to print all pronic numbers between 1 and 100?"
   ]
  },
  {
   "cell_type": "code",
   "execution_count": 6,
   "metadata": {},
   "outputs": [
    {
     "name": "stdout",
     "output_type": "stream",
     "text": [
      "displaying pronic number between 1 and 100 : \n",
      "2 6 12 20 30 42 56 72 90 "
     ]
    }
   ],
   "source": [
    "def pronicNumber(num):\n",
    "    flag=False\n",
    "    for i in range(1,num+1):\n",
    "        if(i*(i+1)==num):\n",
    "            flag=True\n",
    "            break\n",
    "    return flag\n",
    "    \n",
    "print(\"displaying pronic number between 1 and 100 : \")\n",
    "for j in range(1,100):\n",
    "    if(pronicNumber(j)):\n",
    "        print(j,end=\" \") \n",
    "        "
   ]
  },
  {
   "cell_type": "code",
   "execution_count": null,
   "metadata": {},
   "outputs": [],
   "source": []
  }
 ],
 "metadata": {
  "kernelspec": {
   "display_name": "Python 3",
   "language": "python",
   "name": "python3"
  },
  "language_info": {
   "codemirror_mode": {
    "name": "ipython",
    "version": 3
   },
   "file_extension": ".py",
   "mimetype": "text/x-python",
   "name": "python",
   "nbconvert_exporter": "python",
   "pygments_lexer": "ipython3",
   "version": "3.7.4"
  }
 },
 "nbformat": 4,
 "nbformat_minor": 2
}
