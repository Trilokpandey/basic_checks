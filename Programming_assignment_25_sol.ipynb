{
 "cells": [
  {
   "cell_type": "markdown",
   "metadata": {},
   "source": [
    "#### Question1\n",
    "#### Create a function that takes three integer arguments (a, b, c) and returns the amount of integers which are of equal value.\n",
    "#### Examples\n",
    "#### equal(3, 4, 3) ➞ 2\n",
    "\n",
    "#### equal(1, 1, 1) ➞ 3\n",
    "\n",
    "#### equal(3, 4, 1) ➞ 0 \n",
    "#### Notes\n",
    "#### Your function must return 0, 2 or 3.\n"
   ]
  },
  {
   "cell_type": "code",
   "execution_count": 1,
   "metadata": {},
   "outputs": [
    {
     "name": "stdout",
     "output_type": "stream",
     "text": [
      "enter value for a : 3\n",
      "enter value for b : 4\n",
      "enter value for c : 3\n"
     ]
    },
    {
     "data": {
      "text/plain": [
       "2"
      ]
     },
     "execution_count": 1,
     "metadata": {},
     "output_type": "execute_result"
    }
   ],
   "source": [
    "a= int(input(\"enter value for a : \"))\n",
    "b= int(input(\"enter value for b : \"))\n",
    "c= int(input(\"enter value for c : \"))\n",
    "\n",
    "def equal(a,b,c):\n",
    "    if a==b==c:\n",
    "        return 3\n",
    "    elif a!=b and b!=c and a!=c:\n",
    "        return 0\n",
    "    else:\n",
    "        return 2\n",
    "    \n",
    "equal(a,b,c)"
   ]
  },
  {
   "cell_type": "markdown",
   "metadata": {},
   "source": [
    "#### Question2\n",
    "#### Write a function that converts a dictionary into a list of keys-values tuples.\n",
    "#### Examples\n",
    "#### dict_to_list({\n",
    "  #### \"D\": 1,\n",
    "  #### \"B\": 2,\n",
    "  #### \"C\": 3\n",
    "#### }) ➞ [(\"B\", 2), (\"C\", 3), (\"D\", 1)]\n",
    "\n",
    "#### dict_to_list({\n",
    "  #### \"likes\": 2,\n",
    "  #### \"dislikes\": 3,\n",
    "  #### \"followers\": 10\n",
    "#### }) ➞ [(\"dislikes\", 3), (\"followers\", 10), (\"likes\", 2)]\n",
    "#### Notes\n",
    "#### Return the elements in the list in alphabetical order.\n"
   ]
  },
  {
   "cell_type": "code",
   "execution_count": 2,
   "metadata": {},
   "outputs": [
    {
     "data": {
      "text/plain": [
       "[('dislikes', 3), ('followers', 10), ('likes', 2)]"
      ]
     },
     "execution_count": 2,
     "metadata": {},
     "output_type": "execute_result"
    }
   ],
   "source": [
    "d={\n",
    "\"likes\": 2,\n",
    "\"dislikes\": 3,\n",
    "\"followers\": 10\n",
    "}\n",
    "def dict_to_list(d):\n",
    "    l=[]\n",
    "    for i in d.items():\n",
    "        l.append(i)\n",
    "    return sorted(l)\n",
    "\n",
    "dict_to_list(d)\n",
    "    "
   ]
  },
  {
   "cell_type": "markdown",
   "metadata": {},
   "source": [
    "#### Question3\n",
    "#### Write a function that creates a dictionary with each (key, value) pair being the (lower case, upper case) versions of a letter, respectively.\n",
    "#### Examples\n",
    "#### mapping([\"p\", \"s\"]) ➞ { \"p\": \"P\", \"s\": \"S\" }\n",
    "\n",
    "#### mapping([\"a\", \"b\", \"c\"]) ➞ { \"a\": \"A\", \"b\": \"B\", \"c\": \"C\" }\n",
    "\n",
    "#### mapping([\"a\", \"v\", \"y\", \"z\"]) ➞ { \"a\": \"A\", \"v\": \"V\", \"y\": \"Y\", \"z\": \"Z\" }\n",
    "#### Notes\n",
    "#### All of the letters in the input list will always be lowercase.\n"
   ]
  },
  {
   "cell_type": "code",
   "execution_count": 3,
   "metadata": {},
   "outputs": [
    {
     "data": {
      "text/plain": [
       "{'a': 'A', 'b': 'B', 'c': 'C'}"
      ]
     },
     "execution_count": 3,
     "metadata": {},
     "output_type": "execute_result"
    }
   ],
   "source": [
    "l=[\"a\", \"b\", \"c\"]\n",
    "def mapping(l):\n",
    "    dict={}\n",
    "    for i in l:\n",
    "        dict[i]=i.upper()\n",
    "    return dict\n",
    "\n",
    "mapping(l)\n",
    "        "
   ]
  },
  {
   "cell_type": "markdown",
   "metadata": {},
   "source": [
    "#### Question4\n",
    "#### Write a function, that replaces all vowels in a string with a specified vowel.\n",
    "#### Examples\n",
    "#### vow_replace(\"apples and bananas\", \"u\") ➞ \"upplus und bununus\"\n",
    "\n",
    "#### vow_replace(\"cheese casserole\", \"o\") ➞ \"chooso cossorolo\"\n",
    "\n",
    "#### vow_replace(\"stuffed jalapeno poppers\", \"e\") ➞ \"steffed jelepene peppers\"\n",
    "#### Notes\n",
    "#### All words will be lowercase. Y is not considered a vowel.\n"
   ]
  },
  {
   "cell_type": "code",
   "execution_count": 4,
   "metadata": {},
   "outputs": [
    {
     "name": "stdout",
     "output_type": "stream",
     "text": [
      "enter any sentences : cheese casserole\n",
      "enter any vowel character : o\n"
     ]
    },
    {
     "data": {
      "text/plain": [
       "'chooso cossorolo'"
      ]
     },
     "execution_count": 4,
     "metadata": {},
     "output_type": "execute_result"
    }
   ],
   "source": [
    "sentences=input(\"enter any sentences : \")\n",
    "vowel_char=input(\"enter any vowel character : \")\n",
    "\n",
    "def vow_replace(sentences,vowel_char):\n",
    "    vowel='AEIOUaeiou'\n",
    "    for i in vowel:\n",
    "        sentences=sentences.replace(i,vowel_char)\n",
    "    return sentences\n",
    "\n",
    "vow_replace(sentences,vowel_char)\n",
    "    "
   ]
  },
  {
   "cell_type": "markdown",
   "metadata": {},
   "source": [
    "#### Question5\n",
    "#### Create a function that takes a string as input and capitalizes a letter if its ASCII code is even and returns its lower case version if its ASCII code is odd.\n",
    "#### Examples\n",
    "#### ascii_capitalize(\"to be or not to be!\") ➞ \"To Be oR NoT To Be!\"\n",
    "\n",
    "#### ascii_capitalize(\"THE LITTLE MERMAID\") ➞ \"THe LiTTLe meRmaiD\"\n",
    "\n",
    "#### ascii_capitalize(\"Oh what a beautiful morning.\") ➞ \"oH wHaT a BeauTiFuL moRNiNg.\"\n"
   ]
  },
  {
   "cell_type": "code",
   "execution_count": 5,
   "metadata": {},
   "outputs": [
    {
     "name": "stdout",
     "output_type": "stream",
     "text": [
      "enter a sentence : THE LITTLE MERMAID\n"
     ]
    },
    {
     "data": {
      "text/plain": [
       "'THe LiTTLe meRmaiD'"
      ]
     },
     "execution_count": 5,
     "metadata": {},
     "output_type": "execute_result"
    }
   ],
   "source": [
    "s =input(\"enter a sentence : \")\n",
    "\n",
    "def ascii_capitalize(s):\n",
    "    k=[]\n",
    "    for i in s:\n",
    "        if ord(i)%2==0:\n",
    "            k.append(i.upper())\n",
    "        else:\n",
    "            k.append(i.lower())\n",
    "    return \"\".join(map(str,k))\n",
    "\n",
    "\n",
    "ascii_capitalize(s)   "
   ]
  },
  {
   "cell_type": "code",
   "execution_count": null,
   "metadata": {},
   "outputs": [],
   "source": []
  }
 ],
 "metadata": {
  "kernelspec": {
   "display_name": "Python 3",
   "language": "python",
   "name": "python3"
  },
  "language_info": {
   "codemirror_mode": {
    "name": "ipython",
    "version": 3
   },
   "file_extension": ".py",
   "mimetype": "text/x-python",
   "name": "python",
   "nbconvert_exporter": "python",
   "pygments_lexer": "ipython3",
   "version": "3.7.4"
  }
 },
 "nbformat": 4,
 "nbformat_minor": 2
}
