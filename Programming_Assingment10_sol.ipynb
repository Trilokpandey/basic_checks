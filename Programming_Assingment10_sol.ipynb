{
 "cells": [
  {
   "cell_type": "markdown",
   "metadata": {},
   "source": [
    "## 1.Write a Python program to find sum of elements in list?"
   ]
  },
  {
   "cell_type": "code",
   "execution_count": 1,
   "metadata": {},
   "outputs": [
    {
     "name": "stdout",
     "output_type": "stream",
     "text": [
      "sum of element in list is  110\n"
     ]
    }
   ],
   "source": [
    "lst=[56,34,10,3,5,2]\n",
    "\n",
    "def list_sum(lst):\n",
    "    sum=0\n",
    "    for i in lst:\n",
    "        sum+=i\n",
    "    return sum\n",
    "print(\"sum of element in list is \",list_sum(lst))"
   ]
  },
  {
   "cell_type": "markdown",
   "metadata": {},
   "source": [
    "## 2.Write a Python program to  Multiply all numbers in the list?"
   ]
  },
  {
   "cell_type": "code",
   "execution_count": 2,
   "metadata": {},
   "outputs": [
    {
     "name": "stdout",
     "output_type": "stream",
     "text": [
      "product of element in list is : 0\n"
     ]
    }
   ],
   "source": [
    "lst=[56,34,10,3,5,0]\n",
    "\n",
    "def mul_list(lst):\n",
    "    product=1\n",
    "    for i in lst:\n",
    "        product*=i\n",
    "    return product\n",
    "\n",
    "print(\"product of element in list is :\",mul_list(lst))"
   ]
  },
  {
   "cell_type": "markdown",
   "metadata": {},
   "source": [
    "## 3.Write a Python program to find smallest number in a list?"
   ]
  },
  {
   "cell_type": "code",
   "execution_count": 3,
   "metadata": {},
   "outputs": [
    {
     "name": "stdout",
     "output_type": "stream",
     "text": [
      "smallest element in list is  :  0\n"
     ]
    }
   ],
   "source": [
    "lst=[56,34,10,3,5]\n",
    "\n",
    "def smallest_list(lst):\n",
    "    smallest=0\n",
    "    for i in lst:\n",
    "        if smallest >= i:\n",
    "            smallest=0\n",
    "        \n",
    "    return smallest\n",
    "\n",
    "print(\"smallest element in list is  : \",smallest_list(lst))"
   ]
  },
  {
   "cell_type": "markdown",
   "metadata": {},
   "source": [
    "## 4.Write a Python program to find largest number in a list?"
   ]
  },
  {
   "cell_type": "code",
   "execution_count": 4,
   "metadata": {},
   "outputs": [
    {
     "name": "stdout",
     "output_type": "stream",
     "text": [
      "largest element in list is  :  85\n"
     ]
    }
   ],
   "source": [
    "lst=[56,34,85,10,3,5]\n",
    "\n",
    "def largest_list(lst):\n",
    "    largest=0\n",
    "    for i in lst:\n",
    "        if i >= largest:\n",
    "            largest=i\n",
    "    \n",
    "    return largest\n",
    "\n",
    "print(\"largest element in list is  : \",largest_list(lst))"
   ]
  },
  {
   "cell_type": "markdown",
   "metadata": {},
   "source": [
    "## 5.Write a Python program to find second largest number in a list?"
   ]
  },
  {
   "cell_type": "code",
   "execution_count": 5,
   "metadata": {},
   "outputs": [
    {
     "name": "stdout",
     "output_type": "stream",
     "text": [
      "second largest elemnet in the list is :  34\n"
     ]
    }
   ],
   "source": [
    "lst=[56,34,10,3,5]\n",
    "\n",
    "def second_largest(lst):\n",
    "    lst1=set(lst)\n",
    "    lst1.remove(max(lst1))\n",
    "    return max(lst1)\n",
    "\n",
    "print(\"second largest elemnet in the list is : \",second_largest(lst))"
   ]
  },
  {
   "cell_type": "markdown",
   "metadata": {},
   "source": [
    "## 6.Write a Python program to find N largest elements from a list?"
   ]
  },
  {
   "cell_type": "code",
   "execution_count": 13,
   "metadata": {},
   "outputs": [
    {
     "name": "stdout",
     "output_type": "stream",
     "text": [
      "enter the numberof element for largest element in the list : 3\n",
      " largest element from a list is :  [56, 34, 10]\n"
     ]
    }
   ],
   "source": [
    "lst=[56,34,10,3,5]\n",
    "n=int(input(\"enter the numberof element for largest element in the list : \"))\n",
    "def n_largest(lst,n):\n",
    "    lst1=sorted(lst,reverse=True)\n",
    "    l=[]\n",
    "    for i in range(len(lst1)):\n",
    "        if i!=n:\n",
    "            l.append(lst1[i])\n",
    "        else:\n",
    "            break\n",
    "           \n",
    "        \n",
    "    return l\n",
    "\n",
    "print(\" largest element from a list is : \", n_largest(lst,n))   "
   ]
  },
  {
   "cell_type": "markdown",
   "metadata": {},
   "source": [
    "## 7.Write a Python program to print even numbers in a list?"
   ]
  },
  {
   "cell_type": "code",
   "execution_count": 7,
   "metadata": {},
   "outputs": [
    {
     "name": "stdout",
     "output_type": "stream",
     "text": [
      "even number in the list is  :  [2, 4, 6]\n"
     ]
    }
   ],
   "source": [
    "lst=[2,3,4,6,7,9]\n",
    "\n",
    "def even_element(lst):\n",
    "    l=[]\n",
    "    for i in lst:\n",
    "        if i%2==0:\n",
    "            l.append(i)\n",
    "    return l\n",
    "\n",
    "print(\"even number in the list is  : \" ,even_element(lst))"
   ]
  },
  {
   "cell_type": "markdown",
   "metadata": {},
   "source": [
    "## 8.Write a Python program to print odd numbers in a List?"
   ]
  },
  {
   "cell_type": "code",
   "execution_count": 8,
   "metadata": {},
   "outputs": [
    {
     "name": "stdout",
     "output_type": "stream",
     "text": [
      "odd number in the list is  :  [3, 7, 9]\n"
     ]
    }
   ],
   "source": [
    "lst=[2,3,4,6,7,9]\n",
    "\n",
    "def odd_element(lst):\n",
    "    l=[]\n",
    "    for i in lst:\n",
    "        if i%2 != 0:\n",
    "            l.append(i)\n",
    "    \n",
    "    return l\n",
    "\n",
    "print(\"odd number in the list is  : \",odd_element(lst))"
   ]
  },
  {
   "cell_type": "markdown",
   "metadata": {},
   "source": [
    "## 9.Write a Python program to Remove empty List from List?"
   ]
  },
  {
   "cell_type": "code",
   "execution_count": 9,
   "metadata": {},
   "outputs": [
    {
     "name": "stdout",
     "output_type": "stream",
     "text": [
      "list after removing empty list : [2, 3, 4, 6, 7, 9]\n"
     ]
    }
   ],
   "source": [
    "lst=[2,3,[],4,6,7,9,[]]\n",
    "\n",
    "def remove_emptylist(lst):\n",
    "    l=[]\n",
    "    for i in range(len(lst)):\n",
    "        if lst[i]!=[]:\n",
    "            l.append(lst[i])\n",
    "        \n",
    "\n",
    "    return l\n",
    "\n",
    "print(\"list after removing empty list :\",remove_emptylist(lst))        "
   ]
  },
  {
   "cell_type": "markdown",
   "metadata": {},
   "source": [
    "## 10.Write a Python program to Cloning or Copying a list?"
   ]
  },
  {
   "cell_type": "code",
   "execution_count": 10,
   "metadata": {},
   "outputs": [
    {
     "name": "stdout",
     "output_type": "stream",
     "text": [
      "new list after cloning the list :  [2, 3, 4, 6, 7, 9]\n"
     ]
    }
   ],
   "source": [
    "lst=[2,3,4,6,7,9]\n",
    "\n",
    "def copy_list(lst):\n",
    "    l=[]\n",
    "    for i in lst:\n",
    "        l.append(i)\n",
    "    return l\n",
    "\n",
    "print(\"new list after cloning the list : \",copy_list(lst))"
   ]
  },
  {
   "cell_type": "markdown",
   "metadata": {},
   "source": [
    "## 11.Write a Python program to Count occurrences of an element in a list?"
   ]
  },
  {
   "cell_type": "code",
   "execution_count": 11,
   "metadata": {},
   "outputs": [
    {
     "name": "stdout",
     "output_type": "stream",
     "text": [
      "number of occurance of an element in the list :  3\n"
     ]
    }
   ],
   "source": [
    "lst=[2,3,4,6,7,9,4,6,4]\n",
    "\n",
    "def o_count_element(lst,n):\n",
    "    count=0\n",
    "    for i in lst:\n",
    "        if i==n:\n",
    "            count+=1\n",
    "    return count\n",
    "\n",
    "print(\"number of occurance of an element in the list : \",o_count_element(lst,4))\n",
    "        "
   ]
  },
  {
   "cell_type": "code",
   "execution_count": null,
   "metadata": {},
   "outputs": [],
   "source": []
  }
 ],
 "metadata": {
  "kernelspec": {
   "display_name": "Python 3",
   "language": "python",
   "name": "python3"
  },
  "language_info": {
   "codemirror_mode": {
    "name": "ipython",
    "version": 3
   },
   "file_extension": ".py",
   "mimetype": "text/x-python",
   "name": "python",
   "nbconvert_exporter": "python",
   "pygments_lexer": "ipython3",
   "version": "3.7.4"
  }
 },
 "nbformat": 4,
 "nbformat_minor": 2
}
