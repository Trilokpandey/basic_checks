{
 "cells": [
  {
   "cell_type": "markdown",
   "metadata": {},
   "source": [
    "## 1.Write a Python program to find words which are greater than given length k?"
   ]
  },
  {
   "cell_type": "code",
   "execution_count": 1,
   "metadata": {},
   "outputs": [
    {
     "name": "stdout",
     "output_type": "stream",
     "text": [
      "enter string : india is the biggest republic in the world\n",
      "enter the length of k : 4\n"
     ]
    },
    {
     "data": {
      "text/plain": [
       "['india', 'biggest', 'republic', 'world']"
      ]
     },
     "execution_count": 1,
     "metadata": {},
     "output_type": "execute_result"
    }
   ],
   "source": [
    "str=input(\"enter string : \")\n",
    "k=int(input(\"enter the length of k : \"))\n",
    "\n",
    "def string_lengthcheck(str,k):\n",
    "    string=[]\n",
    "    text=str.split(\" \")\n",
    "    for i in text:\n",
    "        if len(i)>k:\n",
    "            string.append(i)\n",
    "        else:\n",
    "            pass\n",
    "    return string\n",
    "\n",
    "string_lengthcheck(str,k)\n",
    "         "
   ]
  },
  {
   "cell_type": "markdown",
   "metadata": {},
   "source": [
    "## 2.Write a Python program for removing i-th character from a string?"
   ]
  },
  {
   "cell_type": "code",
   "execution_count": 10,
   "metadata": {},
   "outputs": [
    {
     "name": "stdout",
     "output_type": "stream",
     "text": [
      "enter string : india is the biggest republic in the world\n",
      "enter the location : 5\n"
     ]
    },
    {
     "data": {
      "text/plain": [
       "'indiais the biggest republic in the world'"
      ]
     },
     "execution_count": 10,
     "metadata": {},
     "output_type": "execute_result"
    }
   ],
   "source": [
    "str=input(\"enter string : \")\n",
    "k=int(input(\"enter the location : \"))\n",
    "\n",
    "def removechar_string(str,k):\n",
    "    a=str[: k]\n",
    "    b=str[k+1: ]\n",
    "    return a+b\n",
    "   \n",
    "    \n",
    "removechar_string(str,k)\n",
    "    \n",
    "\n"
   ]
  },
  {
   "cell_type": "markdown",
   "metadata": {},
   "source": [
    "## 3.Write a Python program to split and join a string?"
   ]
  },
  {
   "cell_type": "code",
   "execution_count": 3,
   "metadata": {},
   "outputs": [
    {
     "name": "stdout",
     "output_type": "stream",
     "text": [
      "enter string : india is the biggest republic in the world\n"
     ]
    },
    {
     "data": {
      "text/plain": [
       "'indiaisthebiggestrepublicintheworld'"
      ]
     },
     "execution_count": 3,
     "metadata": {},
     "output_type": "execute_result"
    }
   ],
   "source": [
    "str=input(\"enter string : \")\n",
    "def stringOperation(str):\n",
    "    return \"\" .join(str.split())\n",
    "\n",
    "stringOperation(str)"
   ]
  },
  {
   "cell_type": "markdown",
   "metadata": {},
   "source": [
    "## 4.Write a Python to check if a given string is binary string or not?"
   ]
  },
  {
   "cell_type": "code",
   "execution_count": 13,
   "metadata": {},
   "outputs": [
    {
     "name": "stdout",
     "output_type": "stream",
     "text": [
      "enter string : fhg0101\n",
      "no,it is not a binary string\n"
     ]
    }
   ],
   "source": [
    "str=input(\"enter string : \")\n",
    "\n",
    "def isbinary(str):\n",
    "    m=set(str)\n",
    "    p={'0','1'}\n",
    "    \n",
    "    if m==p or m=={'0'} or m=={'1'}:\n",
    "        print(\"yes,it is binary string\")\n",
    "    else:\n",
    "        print(\"no,it is not a binary string\")\n",
    "        \n",
    "\n",
    "isbinary(str)\n",
    "    "
   ]
  },
  {
   "cell_type": "markdown",
   "metadata": {},
   "source": [
    "\n",
    "## 5.Write a Python program to find uncommon words from two Strings?"
   ]
  },
  {
   "cell_type": "code",
   "execution_count": 12,
   "metadata": {},
   "outputs": [
    {
     "name": "stdout",
     "output_type": "stream",
     "text": [
      "enter first string : ram is a good boy\n",
      "enter second string : mohan is a bad boy\n"
     ]
    },
    {
     "data": {
      "text/plain": [
       "' ram good mohan bad'"
      ]
     },
     "execution_count": 12,
     "metadata": {},
     "output_type": "execute_result"
    }
   ],
   "source": [
    "str1 = input(\"enter first string : \")\n",
    "str2 = input(\"enter second string : \")\n",
    "\n",
    "def uncommon_words(str1,str2):\n",
    "    l1=str1.split()\n",
    "    l2=str2.split()\n",
    "    uncommon_word=\"\"\n",
    "    for i in l1:\n",
    "        if i not in l2:\n",
    "            uncommon_word = uncommon_word+\" \"+i\n",
    "    for j in l2:\n",
    "        if j not in l1:\n",
    "            uncommon_word = uncommon_word+\" \"+j\n",
    "    return uncommon_word\n",
    "            \n",
    "            \n",
    "        \n",
    "uncommon_words(str1,str2)"
   ]
  },
  {
   "cell_type": "markdown",
   "metadata": {},
   "source": [
    "## 6.Write a Python to find all duplicate characters in string?"
   ]
  },
  {
   "cell_type": "code",
   "execution_count": 6,
   "metadata": {},
   "outputs": [
    {
     "name": "stdout",
     "output_type": "stream",
     "text": [
      "enter string :india is the biggest republic in the world\n",
      "i n d   s t h e b g r l "
     ]
    }
   ],
   "source": [
    "str=input(\"enter string :\")\n",
    "def duplicate_char(str):\n",
    "    d = {}\n",
    "    for char in str:\n",
    "        if char in d:\n",
    "            d[char] += 1\n",
    "        else:\n",
    "            d[char] = 1\n",
    "            \n",
    "    for key,value in d.items():\n",
    "        if value > 1:\n",
    "            print(key, end = \" \" )\n",
    "            \n",
    "            \n",
    "duplicate_char(str)"
   ]
  },
  {
   "cell_type": "markdown",
   "metadata": {},
   "source": [
    "## 7.Write a Python Program to check if a string contains any special character?"
   ]
  },
  {
   "cell_type": "code",
   "execution_count": 11,
   "metadata": {},
   "outputs": [
    {
     "name": "stdout",
     "output_type": "stream",
     "text": [
      "enter string :gjhhgj#jnjn\n",
      "special character is there in the string\n"
     ]
    }
   ],
   "source": [
    "import re\n",
    "\n",
    "str=input(\"enter string :\")\n",
    "\n",
    "def find_special(str):\n",
    "    \n",
    "    special_char = re.compile('[@_!#$%^&*()<>?/\\|}{~:]')\n",
    "    \n",
    "    if special_char.search(str) == None:\n",
    "        print(\"no special character in the string\")\n",
    "        \n",
    "    else:\n",
    "        print(\"special character is there in the string\")\n",
    "        \n",
    "        \n",
    "        \n",
    "find_special(str)"
   ]
  },
  {
   "cell_type": "code",
   "execution_count": null,
   "metadata": {},
   "outputs": [],
   "source": []
  }
 ],
 "metadata": {
  "kernelspec": {
   "display_name": "Python 3",
   "language": "python",
   "name": "python3"
  },
  "language_info": {
   "codemirror_mode": {
    "name": "ipython",
    "version": 3
   },
   "file_extension": ".py",
   "mimetype": "text/x-python",
   "name": "python",
   "nbconvert_exporter": "python",
   "pygments_lexer": "ipython3",
   "version": "3.7.4"
  }
 },
 "nbformat": 4,
 "nbformat_minor": 2
}
