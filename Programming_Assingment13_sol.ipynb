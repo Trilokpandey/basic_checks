{
 "cells": [
  {
   "cell_type": "markdown",
   "metadata": {},
   "source": [
    "#### Question 1:\n",
    "\n",
    "#### Write a program that calculates and prints the value according to the given formula:\n",
    "\n",
    "#### Q = Square root of [(2 * C * D)/H]\n",
    "\n",
    "#### Following are the fixed values of C and H:\n",
    "\n",
    "#### C is 50. H is 30.\n",
    "\n",
    "#### D is the variable whose values should be input to your program in a comma-separated sequence.\n",
    "\n",
    "#### Example\n",
    "\n",
    "#### Let us assume the following comma separated input sequence is given to the program:\n",
    "\n",
    "#### 100,150,180\n",
    "\n",
    "#### The output of the program should be:\n",
    "\n",
    "#### 18,22,24"
   ]
  },
  {
   "cell_type": "code",
   "execution_count": 3,
   "metadata": {},
   "outputs": [
    {
     "name": "stdout",
     "output_type": "stream",
     "text": [
      "enter the comma seperated values :100,150,180\n",
      "18,22,24\n"
     ]
    }
   ],
   "source": [
    "import math\n",
    "C,H=50,30\n",
    "D=str(input(\"enter the comma seperated values :\"))\n",
    "D=D.split(\",\")\n",
    "L=[]\n",
    "for i in D:\n",
    "    q=round(math.sqrt(int((2 * C * int(i))/H)))\n",
    "    L.append(q)\n",
    "val=\",\".join(map(str,L))\n",
    "print(val)"
   ]
  },
  {
   "cell_type": "markdown",
   "metadata": {},
   "source": [
    "#### Question 2:\n",
    "#### Write a program which takes 2 digits, X,Y as input and generates a 2-dimensional array. \n",
    "#### The element value in the i-th row and j-th column of the array should be i*j.\n",
    "\n",
    "#### Note: i=0,1.., X-1; j=0,1,¡¬Y-1.\n",
    "\n",
    "#### Example\n",
    "\n",
    "#### Suppose the following inputs are given to the program:\n",
    "\n",
    "#### 3,5\n",
    "\n",
    "#### Then, the output of the program should be:\n",
    "\n",
    "#### [[0, 0, 0, 0, 0], [0, 1, 2, 3, 4], [0, 2, 4, 6, 8]] \n"
   ]
  },
  {
   "cell_type": "code",
   "execution_count": 5,
   "metadata": {},
   "outputs": [
    {
     "name": "stdout",
     "output_type": "stream",
     "text": [
      "enter number1 : 3\n",
      "enter number2 :5\n",
      "[[0, 0, 0, 0, 0], [0, 1, 2, 3, 4], [0, 2, 4, 6, 8]]\n"
     ]
    }
   ],
   "source": [
    "X=int(input(\"enter number1 : \"))\n",
    "Y=int(input(\"enter number2 :\"))\n",
    "matrix=[[0 for j in range(Y)] for i in range(X)]\n",
    "\n",
    "for i in range(X):\n",
    "    for j in range(Y):\n",
    "        matrix[i][j]=i*j\n",
    "\n",
    "print(matrix)"
   ]
  },
  {
   "cell_type": "markdown",
   "metadata": {},
   "source": [
    "#### Question 3:\n",
    "#### Write a program that accepts a comma separated sequence of words as input and prints the words in a comma-separated sequence \n",
    "#### after sorting them alphabetically.\n",
    "\n",
    "#### Suppose the following input is supplied to the program:\n",
    "\n",
    "#### without,hello,bag,world\n",
    "\n",
    "#### Then, the output should be:\n",
    "\n",
    "#### bag,hello,without,world\n"
   ]
  },
  {
   "cell_type": "code",
   "execution_count": 7,
   "metadata": {},
   "outputs": [
    {
     "name": "stdout",
     "output_type": "stream",
     "text": [
      "enter the comma seperated words :without,hello,bag,world\n",
      "bag,hello,without,world\n"
     ]
    }
   ],
   "source": [
    "words_input=str(input(\"enter the comma seperated words :\"))\n",
    "words=words_input.split(\",\")\n",
    "words.sort()\n",
    "print(\",\".join(words))"
   ]
  },
  {
   "cell_type": "markdown",
   "metadata": {},
   "source": [
    "#### Question 4:\n",
    "#### Write a program that accepts a sequence of whitespace separated words as input and prints the words after removing all \n",
    "#### duplicate words and sorting them alphanumerically.\n",
    "\n",
    "#### Suppose the following input is supplied to the program:\n",
    "\n",
    "#### hello world and practice makes perfect and hello world again\n",
    "\n",
    "#### Then, the output should be:\n",
    "\n",
    "#### again and hello makes perfect practice world"
   ]
  },
  {
   "cell_type": "code",
   "execution_count": 8,
   "metadata": {},
   "outputs": [
    {
     "name": "stdout",
     "output_type": "stream",
     "text": [
      "enter the comma seperated words :hello world and practice makes perfect and hello world again\n",
      "\n",
      "\n",
      "again and hello makes perfect practice world "
     ]
    }
   ],
   "source": [
    "words_input=str(input(\"enter the comma seperated words :\"))\n",
    "print(\"\\n\")\n",
    "words=words_input.split(\" \")\n",
    "for i in sorted(list(set(words))):\n",
    "    print(\"\".join(i),end=\" \")\n",
    "    "
   ]
  },
  {
   "cell_type": "markdown",
   "metadata": {},
   "source": [
    "#### Question 5:\n",
    "#### Write a program that accepts a sentence and calculate the number of letters and digits.\n",
    "\n",
    "#### Suppose the following input is supplied to the program:\n",
    "\n",
    "#### hello world! 123\n",
    "\n",
    "#### Then, the output should be:\n",
    "\n",
    "#### LETTERS 10\n",
    "\n",
    "#### DIGITS 3"
   ]
  },
  {
   "cell_type": "code",
   "execution_count": 9,
   "metadata": {},
   "outputs": [
    {
     "name": "stdout",
     "output_type": "stream",
     "text": [
      "enter alphanumeric sentence : hello world! 123\n",
      "total no of letter in the sentence is :  10\n",
      "total no of digit in the sentence is :  3\n"
     ]
    }
   ],
   "source": [
    "sentence=input(\"enter alphanumeric sentence : \")\n",
    "lcount=dcount=0\n",
    "for c in sentence:\n",
    "    if c.isdigit():\n",
    "        dcount+=1\n",
    "    elif c.isalpha():\n",
    "        lcount+=1\n",
    "    else:\n",
    "        pass\n",
    "print(\"total no of letter in the sentence is : \",lcount)\n",
    "print(\"total no of digit in the sentence is : \",dcount)\n",
    "        \n",
    "    "
   ]
  },
  {
   "cell_type": "markdown",
   "metadata": {},
   "source": [
    "#### Question 6:\n",
    "#### A website requires the users to input username and password to register. Write a program to check the validity of\n",
    "#### password input by users.\n",
    "\n",
    "#### Following are the criteria for checking the password:\n",
    "\n",
    "#### 1. At least 1 letter between [a-z]\n",
    "\n",
    "#### 2. At least 1 number between [0-9]\n",
    "\n",
    "#### 1. At least 1 letter between [A-Z]\n",
    "\n",
    "#### 3. At least 1 character from [$#@]\n",
    "\n",
    "#### 4. Minimum length of transaction password: 6\n",
    "\n",
    "#### 5. Maximum length of transaction password: 12\n",
    "\n",
    "#### Your program should accept a sequence of comma separated passwords and will check them according to the above criteria. \n",
    "#### Passwords that match the criteria are to be printed, each separated by a comma.\n",
    "\n",
    "#### Exam\n",
    "\n",
    "#### If the following passwords are given as input to the program:\n",
    "\n",
    "#### ABd1234@1,a F1#,2w3E*,2We3345\n",
    "\n",
    "#### Then, the output of the program should be:\n",
    "\n",
    "#### ABd1234@1"
   ]
  },
  {
   "cell_type": "code",
   "execution_count": 10,
   "metadata": {},
   "outputs": [
    {
     "name": "stdout",
     "output_type": "stream",
     "text": [
      "Enter password : ABd1234@1,a F1#,2w3E*,2We3345\n",
      "ABd1234@1\n"
     ]
    }
   ],
   "source": [
    "import re\n",
    "\n",
    "password= input(\"Enter password : \")\n",
    "password = password.split(\",\")\n",
    "\n",
    "valid_pass=[]\n",
    "\n",
    "for pwd in password:\n",
    "    \n",
    "    if not re.search(\"[$#@]\",pwd):\n",
    "        continue\n",
    "        \n",
    "    elif not re.search(\"[a-z]\",pwd):\n",
    "        continue\n",
    "        \n",
    "    elif not re.search(\"[0-9]\",pwd):\n",
    "        continue\n",
    "        \n",
    "    elif not re.search(\"[A-Z]\",pwd):\n",
    "        continue\n",
    "        \n",
    "    elif len(pwd)<6 or len(pwd)>12:\n",
    "        continue\n",
    "     \n",
    "    else:\n",
    "        valid_pass.append(pwd)\n",
    "       \n",
    "        \n",
    "print(\" \".join(valid_pass))"
   ]
  },
  {
   "cell_type": "code",
   "execution_count": null,
   "metadata": {},
   "outputs": [],
   "source": []
  },
  {
   "cell_type": "code",
   "execution_count": null,
   "metadata": {},
   "outputs": [],
   "source": []
  }
 ],
 "metadata": {
  "kernelspec": {
   "display_name": "Python 3",
   "language": "python",
   "name": "python3"
  },
  "language_info": {
   "codemirror_mode": {
    "name": "ipython",
    "version": 3
   },
   "file_extension": ".py",
   "mimetype": "text/x-python",
   "name": "python",
   "nbconvert_exporter": "python",
   "pygments_lexer": "ipython3",
   "version": "3.7.4"
  }
 },
 "nbformat": 4,
 "nbformat_minor": 2
}
