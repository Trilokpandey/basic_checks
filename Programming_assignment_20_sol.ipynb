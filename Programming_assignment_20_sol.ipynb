{
 "cells": [
  {
   "cell_type": "markdown",
   "metadata": {},
   "source": [
    "#### Question1\n",
    "#### Create a function that takes a list of strings and integers, and filters out the list so that it returns a list of integers only.\n",
    "#### Examples\n",
    "#### filter_list([1, 2, 3, \"a\", \"b\", 4]) ➞ [1, 2, 3, 4]\n",
    "\n",
    "#### filter_list([\"A\", 0, \"Edabit\", 1729, \"Python\", \"1729\"]) ➞ [0, 1729]\n",
    "\n",
    "#### filter_list([\"Nothing\", \"here\"]) ➞ []\n"
   ]
  },
  {
   "cell_type": "code",
   "execution_count": 1,
   "metadata": {},
   "outputs": [
    {
     "name": "stdout",
     "output_type": "stream",
     "text": [
      "[1, 2, 3, 4]\n",
      "[0, 1729]\n",
      "[]\n"
     ]
    }
   ],
   "source": [
    "l=[1, 2, 3, \"a\", \"b\", 4]\n",
    "l1=[\"A\", 0, \"Edabit\", 1729, \"Python\", \"1729\"]\n",
    "l2=[\"Nothing\", \"here\"]\n",
    "print(list(filter(lambda x: type(x)!=str,l)))\n",
    "print(list(filter(lambda x: type(x)!=str,l1)))\n",
    "print(list(filter(lambda x: type(x)!=str,l2)))"
   ]
  },
  {
   "cell_type": "markdown",
   "metadata": {},
   "source": [
    "#### Question2\n",
    "#### Given a list of numbers, create a function which returns the list but with each element's index in the list added to itself. This means you add 0 to the number at index 0, add 1 to the number at index 1, etc...\n",
    "#### Examples\n",
    "#### add_indexes([0, 0, 0, 0, 0]) ➞ [0, 1, 2, 3, 4]\n",
    "\n",
    "#### add_indexes([1, 2, 3, 4, 5]) ➞ [1, 3, 5, 7, 9]\n",
    "\n",
    "#### add_indexes([5, 4, 3, 2, 1]) ➞ [5, 5, 5, 5, 5]\n"
   ]
  },
  {
   "cell_type": "code",
   "execution_count": 2,
   "metadata": {},
   "outputs": [
    {
     "name": "stdout",
     "output_type": "stream",
     "text": [
      "[0, 0, 0, 0, 0]\n",
      "[1, 3, 5, 7, 9]\n",
      "[5, 5, 5, 5, 5]\n"
     ]
    }
   ],
   "source": [
    "l=[0, 0, 0, 0, 0]\n",
    "l1=[1, 2, 3, 4, 5]\n",
    "l2=[5, 4, 3, 2, 1]\n",
    "print(list(map(lambda x : l.index(x)+x,l)))\n",
    "print(list(map(lambda x : l1.index(x)+x,l1)))\n",
    "print(list(map(lambda x : l2.index(x)+x,l2)))"
   ]
  },
  {
   "cell_type": "markdown",
   "metadata": {},
   "source": [
    "#### Question3\n",
    "#### Create a function that takes the height and radius of a cone as arguments and returns the volume of the cone rounded to the nearest hundredth. See the resources tab for the formula.\n",
    " \n",
    "#### Examples\n",
    "#### cone_volume(3, 2) ➞ 12.57\n",
    "\n",
    "#### cone_volume(15, 6) ➞ 565.49\n",
    "\n",
    "#### cone_volume(18, 0) ➞ 0\n"
   ]
  },
  {
   "cell_type": "code",
   "execution_count": 3,
   "metadata": {},
   "outputs": [
    {
     "name": "stdout",
     "output_type": "stream",
     "text": [
      "enter height : 15\n",
      "enter radius : 6\n"
     ]
    },
    {
     "data": {
      "text/plain": [
       "565.49"
      ]
     },
     "execution_count": 3,
     "metadata": {},
     "output_type": "execute_result"
    }
   ],
   "source": [
    "import math\n",
    "h = int(input(\"enter height : \"))\n",
    "r = int(input(\"enter radius : \"))\n",
    "\n",
    "def cone_volume(h,r):\n",
    "    return round((1/3)*math.pi*r**2*h,2)\n",
    "\n",
    "cone_volume(h,r)"
   ]
  },
  {
   "cell_type": "markdown",
   "metadata": {},
   "source": [
    "#### Question4\n",
    "#### This Triangular Number Sequence is generated from a pattern of dots that form a triangle. The first 5 numbers of the sequence, or dots, are: \n",
    "#### 1, 3, 6, 10, 15\n",
    "#### This means that the first triangle has just one dot, the second one has three dots, the third one has 6 dots and so on.\n",
    "#### Write a function that gives the number of dots with its corresponding triangle number of the sequence.\n",
    "#### Examples\n",
    "#### triangle(1) ➞ 1\n",
    "\n",
    "#### triangle(6) ➞ 21\n",
    "\n",
    "#### triangle(215) ➞ 23220\n"
   ]
  },
  {
   "cell_type": "code",
   "execution_count": 4,
   "metadata": {},
   "outputs": [
    {
     "name": "stdout",
     "output_type": "stream",
     "text": [
      "enter number : 215\n"
     ]
    },
    {
     "data": {
      "text/plain": [
       "23220"
      ]
     },
     "execution_count": 4,
     "metadata": {},
     "output_type": "execute_result"
    }
   ],
   "source": [
    "num=int(input(\"enter number : \"))\n",
    "def dot_generation(num):\n",
    "        return sum(list(range(1,num+1)))\n",
    "    \n",
    "dot_generation(num)\n",
    "    "
   ]
  },
  {
   "cell_type": "markdown",
   "metadata": {},
   "source": [
    "#### Question5\n",
    "#### Create a function that takes a list of numbers between 1 and 10 (excluding one number) and returns the missing number.\n",
    "#### Examples\n",
    "#### missing_num([1, 2, 3, 4, 6, 7, 8, 9, 10]) ➞ 5\n",
    "\n",
    "#### missing_num([7, 2, 3, 6, 5, 9, 1, 4, 8]) ➞ 10\n",
    "\n",
    "#### missing_num([10, 5, 1, 2, 4, 6, 8, 3, 9]) ➞ 7\n"
   ]
  },
  {
   "cell_type": "code",
   "execution_count": 5,
   "metadata": {},
   "outputs": [
    {
     "data": {
      "text/plain": [
       "10"
      ]
     },
     "execution_count": 5,
     "metadata": {},
     "output_type": "execute_result"
    }
   ],
   "source": [
    "l=[7, 2, 3, 6, 5, 9, 1, 4, 8]\n",
    "def missing_num(l):\n",
    "    for i in list(range(1,11)):\n",
    "        if i not in l:\n",
    "            return i\n",
    "        \n",
    "missing_num(l)\n",
    "            "
   ]
  },
  {
   "cell_type": "code",
   "execution_count": null,
   "metadata": {},
   "outputs": [],
   "source": []
  }
 ],
 "metadata": {
  "kernelspec": {
   "display_name": "Python 3",
   "language": "python",
   "name": "python3"
  },
  "language_info": {
   "codemirror_mode": {
    "name": "ipython",
    "version": 3
   },
   "file_extension": ".py",
   "mimetype": "text/x-python",
   "name": "python",
   "nbconvert_exporter": "python",
   "pygments_lexer": "ipython3",
   "version": "3.7.4"
  }
 },
 "nbformat": 4,
 "nbformat_minor": 2
}
