{
 "cells": [
  {
   "cell_type": "markdown",
   "metadata": {},
   "source": [
    "#### Question1. Create a function that takes three arguments a, b, c and returns the sum of the numbers that are evenly divided by c from the range a, b inclusive.\n",
    "#### Examples\n",
    "#### evenly_divisible(1, 10, 20) ➞ 0\n",
    "##### No number between 1 and 10 can be evenly divided by 20.\n",
    "\n",
    "#### evenly_divisible(1, 10, 2) ➞ 30\n",
    "#### # 2 + 4 + 6 + 8 + 10 = 30\n",
    "\n",
    "#### evenly_divisible(1, 10, 3) ➞ 18\n",
    "##### 3 + 6 + 9 = 18\n"
   ]
  },
  {
   "cell_type": "code",
   "execution_count": 1,
   "metadata": {},
   "outputs": [
    {
     "data": {
      "text/plain": [
       "18"
      ]
     },
     "execution_count": 1,
     "metadata": {},
     "output_type": "execute_result"
    }
   ],
   "source": [
    "\n",
    "def evenly_divisible(a, b, c):\n",
    "    sum=0\n",
    "    for i in list(range(a,b+1)):\n",
    "        if i%c==0:\n",
    "            sum+=i\n",
    "    return sum\n",
    "\n",
    "\n",
    "evenly_divisible(1, 10, 3)\n",
    "\n",
    "            "
   ]
  },
  {
   "cell_type": "markdown",
   "metadata": {},
   "source": [
    "#### Question2. Create a function that returns True if a given inequality expression is correct and False otherwise.\n",
    "#### Examples\n",
    "#### correct_signs(\"3 < 7 < 11\") ➞ True\n",
    "\n",
    "#### correct_signs(\"13 > 44 > 33 > 1\") ➞ False\n",
    "\n",
    "#### correct_signs(\"1 < 2 < 6 < 9 > 3\") ➞ True\n"
   ]
  },
  {
   "cell_type": "code",
   "execution_count": 2,
   "metadata": {},
   "outputs": [
    {
     "name": "stdout",
     "output_type": "stream",
     "text": [
      "enter mathematical expression : 1 < 2 < 6 < 9 > 3\n"
     ]
    },
    {
     "data": {
      "text/plain": [
       "True"
      ]
     },
     "execution_count": 2,
     "metadata": {},
     "output_type": "execute_result"
    }
   ],
   "source": [
    "expression =input(\"enter mathematical expression : \")\n",
    "\n",
    "def correct_signs(expression):\n",
    "    regex=eval(expression)\n",
    "    if regex:\n",
    "        return True\n",
    "    else:\n",
    "        return False\n",
    "\n",
    "correct_signs(expression)\n",
    "    \n",
    "    "
   ]
  },
  {
   "cell_type": "markdown",
   "metadata": {},
   "source": [
    "#### Question3. Create a function that replaces all the vowels in a string with a specified character.\n",
    "#### Examples\n",
    "#### replace_vowels(\"the aardvark\", \"#\") ➞ \"th# ##rdv#rk\"\n",
    "\n",
    "#### replace_vowels(\"minnie mouse\", \"?\") ➞ \"m?nn?? m??s?\"\n",
    "\n",
    "#### replace_vowels(\"shakespeare\", \"*\") ➞ \"sh*k*sp**r*\"\n"
   ]
  },
  {
   "cell_type": "code",
   "execution_count": 3,
   "metadata": {},
   "outputs": [
    {
     "name": "stdout",
     "output_type": "stream",
     "text": [
      "enter string1 : shakespeare\n",
      "enter character string : *\n"
     ]
    },
    {
     "data": {
      "text/plain": [
       "'shakespeare'"
      ]
     },
     "execution_count": 3,
     "metadata": {},
     "output_type": "execute_result"
    }
   ],
   "source": [
    "string1 = input(\"enter string1 : \")\n",
    "character = input(\"enter character string : \")\n",
    "\n",
    "def replace_vowels(string1,character):\n",
    "    for i in string1:\n",
    "        if i in 'aeiou':\n",
    "            \"\".join(string1.replace(i,character))\n",
    "    return string1\n",
    "\n",
    "\n",
    "replace_vowels(string1,character)    "
   ]
  },
  {
   "cell_type": "code",
   "execution_count": 4,
   "metadata": {},
   "outputs": [
    {
     "data": {
      "text/plain": [
       "'mohan'"
      ]
     },
     "execution_count": 4,
     "metadata": {},
     "output_type": "execute_result"
    }
   ],
   "source": [
    "s=\"mohan\"\n",
    "for i in s:\n",
    "    s.replace(i,'k',2)\n",
    "s\n"
   ]
  },
  {
   "cell_type": "markdown",
   "metadata": {},
   "source": [
    "#### Question4. Write a function that calculates the factorial of a number recursively.\n",
    "#### Examples\n",
    "#### factorial(5) ➞ 120\n",
    "\n",
    "#### factorial(3) ➞ 6\n",
    "\n",
    "#### factorial(1) ➞ 1\n",
    "\n",
    "#### factorial(0) ➞ 1\n"
   ]
  },
  {
   "cell_type": "code",
   "execution_count": 5,
   "metadata": {},
   "outputs": [
    {
     "name": "stdout",
     "output_type": "stream",
     "text": [
      "enter number : 5\n"
     ]
    },
    {
     "data": {
      "text/plain": [
       "120"
      ]
     },
     "execution_count": 5,
     "metadata": {},
     "output_type": "execute_result"
    }
   ],
   "source": [
    "num=int(input(\"enter number : \"))\n",
    "def factorial(num):\n",
    "    if num==1:\n",
    "        return 1\n",
    "    else:\n",
    "        return num*factorial(num-1)\n",
    "    \n",
    "factorial(num)"
   ]
  },
  {
   "cell_type": "markdown",
   "metadata": {},
   "source": [
    "#### Question 5\n",
    "#### Hamming distance is the number of characters that differ between two strings.\n",
    "#### To illustrate:\n",
    "#### String1: \"abcbba\"\n",
    "#### String2: \"abcbda\"\n",
    "\n",
    "#### Hamming Distance: 1 - \"b\" vs. \"d\" is the only difference.\n",
    "#### Create a function that computes the hamming distance between two strings.\n",
    "#### Examples\n",
    "#### hamming_distance(\"abcde\", \"bcdef\") ➞ 5\n",
    "\n",
    "#### hamming_distance(\"abcde\", \"abcde\") ➞ 0\n",
    "\n",
    "#### hamming_distance(\"strong\", \"strung\") ➞ 1\n"
   ]
  },
  {
   "cell_type": "code",
   "execution_count": 7,
   "metadata": {},
   "outputs": [
    {
     "name": "stdout",
     "output_type": "stream",
     "text": [
      "enter string1 : abcde\n",
      "enter string2 : bcdef\n"
     ]
    },
    {
     "data": {
      "text/plain": [
       "5"
      ]
     },
     "execution_count": 7,
     "metadata": {},
     "output_type": "execute_result"
    }
   ],
   "source": [
    "str1 =input(\"enter string1 : \")\n",
    "str2 =input(\"enter string2 : \")\n",
    "\n",
    "def hamming_distance(str1,str2):\n",
    "    sum1=0\n",
    "    sum2=0\n",
    "    for i in str1:\n",
    "        sum1+=ord(i)\n",
    "    for i in str2:\n",
    "        sum2+=ord(i)\n",
    "    if sum1>sum2:\n",
    "        result=sum1-sum2\n",
    "    else:\n",
    "        result=sum2-sum1\n",
    "    \n",
    "    return result\n",
    "\n",
    "hamming_distance(str1,str2)\n",
    "        \n",
    "    "
   ]
  },
  {
   "cell_type": "code",
   "execution_count": null,
   "metadata": {},
   "outputs": [],
   "source": []
  }
 ],
 "metadata": {
  "kernelspec": {
   "display_name": "Python 3",
   "language": "python",
   "name": "python3"
  },
  "language_info": {
   "codemirror_mode": {
    "name": "ipython",
    "version": 3
   },
   "file_extension": ".py",
   "mimetype": "text/x-python",
   "name": "python",
   "nbconvert_exporter": "python",
   "pygments_lexer": "ipython3",
   "version": "3.7.4"
  }
 },
 "nbformat": 4,
 "nbformat_minor": 2
}
