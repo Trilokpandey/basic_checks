{
 "cells": [
  {
   "cell_type": "markdown",
   "metadata": {},
   "source": [
    "## Question 1:\n",
    "## Please write a program using generator to print the numbers which can be divisible by 5 and 7 between 0 and n in comma separated form while n is input by console.\n",
    "## Example:\n",
    "## If the following n is given as input to the program:\n",
    "## 100\n",
    "## Then, the output of the program should be:\n",
    "## 0,35,70"
   ]
  },
  {
   "cell_type": "code",
   "execution_count": 1,
   "metadata": {},
   "outputs": [
    {
     "name": "stdout",
     "output_type": "stream",
     "text": [
      "enter the value of n :100\n",
      "0,35,70\n"
     ]
    }
   ],
   "source": [
    "n=int(input(\"enter the value of n :\"))\n",
    "def divisible_num(n):\n",
    "    for i in range(n):\n",
    "        if i%5==0 and i%7==0:\n",
    "            yield i\n",
    "l=[]            \n",
    "for i in divisible_num(n):\n",
    "    l.append(i)\n",
    "print(\",\".join(map(str,l)))\n"
   ]
  },
  {
   "cell_type": "markdown",
   "metadata": {},
   "source": [
    "## Question 2:\n",
    "## Please write a program using generator to print the even numbers between 0 and n in comma separated form while n is input by console.\n",
    "## Example:\n",
    "## If the following n is given as input to the program:\n",
    "## 10\n",
    "## Then, the output of the program should be:\n",
    "## 0,2,4,6,8,10\n"
   ]
  },
  {
   "cell_type": "code",
   "execution_count": 2,
   "metadata": {},
   "outputs": [
    {
     "name": "stdout",
     "output_type": "stream",
     "text": [
      "enter the number limit :10\n",
      "0,2,4,6,8,10\n"
     ]
    }
   ],
   "source": [
    "n=int(input(\"enter the number limit :\"))\n",
    "\n",
    "def even_num(n):\n",
    "    for i in range(n+1):\n",
    "        if i%2==0:\n",
    "            yield i\n",
    "            \n",
    "\n",
    "l1=[]            \n",
    "for i in even_num(n):\n",
    "    l1.append(i)\n",
    "print(\",\".join(map(str,l1)))\n",
    "    "
   ]
  },
  {
   "cell_type": "markdown",
   "metadata": {},
   "source": [
    "## Question 3:\n",
    "## The Fibonacci Sequence is computed based on the following formula:\n",
    "## f(n)=0 if n=0\n",
    "## f(n)=1 if n=1\n",
    "## f(n)=f(n-1)+f(n-2) if n>1\n",
    "## Please write a program using list comprehension to print the Fibonacci Sequence in comma separated form with a given n input by console.\n",
    "## Example:\n",
    "## If the following n is given as input to the program:\n",
    "## 7\n",
    "\n",
    "## Then, the output of the program should be:\n",
    "## 0,1,1,2,3,5,8,13"
   ]
  },
  {
   "cell_type": "code",
   "execution_count": 3,
   "metadata": {},
   "outputs": [
    {
     "name": "stdout",
     "output_type": "stream",
     "text": [
      "7\n",
      "0,1,1,2,3,5,8,13\n"
     ]
    }
   ],
   "source": [
    "fibo=[0,1]\n",
    "[fibo.append(fibo[i-1] + fibo[i-2]) for i in range(2,int(input())+1)]\n",
    "print(\",\".join(map(str,fibo)))"
   ]
  },
  {
   "cell_type": "markdown",
   "metadata": {},
   "source": [
    "\n",
    "## Question 4:\n",
    "## Assuming that we have some email addresses in the \"username@companyname.com\" format, please write program to print the user name of a given email address. Both user names and company names are composed of letters only.\n",
    "## Example:\n",
    "## If the following email address is given as input to the program:\n",
    "## john@google.com\n",
    "## Then, the output of the program should be:\n",
    "## john"
   ]
  },
  {
   "cell_type": "code",
   "execution_count": 4,
   "metadata": {},
   "outputs": [
    {
     "name": "stdout",
     "output_type": "stream",
     "text": [
      "enter email_id of user :john@google.com\n"
     ]
    },
    {
     "data": {
      "text/plain": [
       "'john'"
      ]
     },
     "execution_count": 4,
     "metadata": {},
     "output_type": "execute_result"
    }
   ],
   "source": [
    "email=input(\"enter email_id of user :\")\n",
    "user_detail=email.split('@')\n",
    "username=user_detail[0]\n",
    "username"
   ]
  },
  {
   "cell_type": "markdown",
   "metadata": {},
   "source": [
    "\n",
    "## Question 5:\n",
    "## Define a class named Shape and its subclass Square. The Square class has an init function which takes a length as argument. Both classes have a area function which can print the area of the shape where Shape's area is 0 by default.\n"
   ]
  },
  {
   "cell_type": "code",
   "execution_count": 5,
   "metadata": {},
   "outputs": [
    {
     "name": "stdout",
     "output_type": "stream",
     "text": [
      "25\n",
      "0\n",
      "0\n"
     ]
    }
   ],
   "source": [
    "class Shape:\n",
    "    def __init__(self):\n",
    "        pass\n",
    "    def Area(self):\n",
    "        return 0\n",
    "    \n",
    "class Square(Shape):\n",
    "    def __init__(self,length=0):\n",
    "        super(Shape,self).__init__()\n",
    "        self.length=length\n",
    "    def Area(self):\n",
    "        return self.length**2\n",
    "        \n",
    "s=Square(5)\n",
    "print(s.Area())\n",
    "print(Square().Area())\n",
    "print(Shape().Area())"
   ]
  },
  {
   "cell_type": "code",
   "execution_count": null,
   "metadata": {},
   "outputs": [],
   "source": []
  }
 ],
 "metadata": {
  "kernelspec": {
   "display_name": "Python 3",
   "language": "python",
   "name": "python3"
  },
  "language_info": {
   "codemirror_mode": {
    "name": "ipython",
    "version": 3
   },
   "file_extension": ".py",
   "mimetype": "text/x-python",
   "name": "python",
   "nbconvert_exporter": "python",
   "pygments_lexer": "ipython3",
   "version": "3.7.4"
  }
 },
 "nbformat": 4,
 "nbformat_minor": 2
}
