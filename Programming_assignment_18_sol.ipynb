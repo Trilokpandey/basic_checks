{
 "cells": [
  {
   "cell_type": "markdown",
   "metadata": {},
   "source": [
    "#### Question 1\n",
    "#### Create a function that takes a list of non-negative integers and strings and return a new list without the strings.\n",
    "#### Examples\n",
    "#### filter_list([1, 2, \"a\", \"b\"]) ➞ [1, 2]\n",
    "\n",
    "#### filter_list([1, \"a\", \"b\", 0, 15]) ➞ [1, 0, 15]\n",
    "\n",
    "#### filter_list([1, 2, \"aasf\", \"1\", \"123\", 123]) ➞ [1, 2, 123]\n"
   ]
  },
  {
   "cell_type": "code",
   "execution_count": 1,
   "metadata": {},
   "outputs": [
    {
     "data": {
      "text/plain": [
       "[1, 2, 123]"
      ]
     },
     "execution_count": 1,
     "metadata": {},
     "output_type": "execute_result"
    }
   ],
   "source": [
    "l=[1, 2, \"aasf\", \"1\", \"123\", 123]\n",
    "l1=[]\n",
    "def filter_list(l):\n",
    "    for i in l:\n",
    "        if type(i)!=str:\n",
    "            l1.append(i)\n",
    "    return l1\n",
    "\n",
    "filter_list(l)"
   ]
  },
  {
   "cell_type": "markdown",
   "metadata": {},
   "source": [
    "#### Question 2\n",
    "#### The \"Reverser\" takes a string as input and returns that string in reverse order, with the opposite case.\n",
    "#### Examples\n",
    "#### reverse(\"Hello World\") ➞ \"DLROw OLLEh\"\n",
    "\n",
    "#### reverse(\"ReVeRsE\") ➞ \"eSrEvEr\"\n",
    "\n",
    "#### reverse(\"Radar\") ➞ \"RADAr\"\n"
   ]
  },
  {
   "cell_type": "code",
   "execution_count": 2,
   "metadata": {},
   "outputs": [
    {
     "data": {
      "text/plain": [
       "'DLROw OLLEh'"
      ]
     },
     "execution_count": 2,
     "metadata": {},
     "output_type": "execute_result"
    }
   ],
   "source": [
    "s=\"Hello World\"\n",
    "\n",
    "def reverse(s):\n",
    "    return s[::-1].swapcase()\n",
    "\n",
    "reverse(s)"
   ]
  },
  {
   "cell_type": "markdown",
   "metadata": {},
   "source": [
    "#### Question 3\n",
    "#### You can assign variables from lists like this:\n",
    "#### lst = [1, 2, 3, 4, 5, 6]\n",
    "#### first = lst[0]\n",
    "#### middle = lst[1:-1]\n",
    "#### last = lst[-1]\n",
    "\n",
    "#### print(first) ➞ outputs 1\n",
    "#### print(middle) ➞ outputs [2, 3, 4, 5]\n",
    "#### print(last) ➞ outputs 6\n",
    "#### With Python 3, you can assign variables from lists in a much more succinct way. Create variables first, middle and last from the given list using destructuring assignment (check the Resources tab for some examples), where:\n",
    "#### first  ➞ 1\n",
    "\n",
    "#### middle ➞ [2, 3, 4, 5]\n",
    "\n",
    "#### last ➞ 6\n",
    "#### Your task is to unpack the list writeyourcodehere into three variables, being first, middle, and last, with middle being everything in between the first and last element. Then print all three variables.\n"
   ]
  },
  {
   "cell_type": "code",
   "execution_count": 3,
   "metadata": {},
   "outputs": [
    {
     "name": "stdout",
     "output_type": "stream",
     "text": [
      "1\n",
      "[2, 3, 4, 5]\n",
      "6\n"
     ]
    }
   ],
   "source": [
    "first,*middle,last = [1, 2, 3, 4, 5, 6]\n",
    "\n",
    "print(first)\n",
    "print(middle)\n",
    "print(last)       "
   ]
  },
  {
   "cell_type": "markdown",
   "metadata": {},
   "source": [
    "#### Question 4\n",
    "#### Write a function that calculates the factorial of a number recursively.\n",
    "#### Examples\n",
    "#### factorial(5) ➞ 120\n",
    "\n",
    "#### factorial(3) ➞ 6\n",
    "\n",
    "#### factorial(1) ➞ 1\n",
    "\n",
    "#### factorial(0) ➞ 1\n"
   ]
  },
  {
   "cell_type": "code",
   "execution_count": 4,
   "metadata": {},
   "outputs": [
    {
     "name": "stdout",
     "output_type": "stream",
     "text": [
      "enter your number : 5\n"
     ]
    },
    {
     "data": {
      "text/plain": [
       "120"
      ]
     },
     "execution_count": 4,
     "metadata": {},
     "output_type": "execute_result"
    }
   ],
   "source": [
    "num = int(input(\"enter your number : \"))\n",
    "def factorial(num):\n",
    "    if num==1:\n",
    "        return 1\n",
    "    else:\n",
    "        return num*factorial(num-1)\n",
    "    \n",
    "factorial(num)\n",
    "    "
   ]
  },
  {
   "cell_type": "markdown",
   "metadata": {},
   "source": [
    "#### Question 5\n",
    "#### Write a function that moves all elements of one type to the end of the list.\n",
    "#### Examples\n",
    "#### move_to_end([1, 3, 2, 4, 4, 1], 1) ➞ [3, 2, 4, 4, 1, 1]\n",
    "##### Move all the 1s to the end of the array.\n",
    "\n",
    "#### move_to_end([7, 8, 9, 1, 2, 3, 4], 9) ➞ [7, 8, 1, 2, 3, 4, 9]\n",
    "\n",
    "#### move_to_end([\"a\", \"a\", \"a\", \"b\"], \"a\") ➞ [\"b\", \"a\", \"a\", \"a\"]\n"
   ]
  },
  {
   "cell_type": "code",
   "execution_count": 5,
   "metadata": {},
   "outputs": [
    {
     "data": {
      "text/plain": [
       "[3, 2, 4, 4, 1, 1]"
      ]
     },
     "execution_count": 5,
     "metadata": {},
     "output_type": "execute_result"
    }
   ],
   "source": [
    "l=[1, 3, 2, 4, 4, 1]\n",
    "value=1\n",
    "\n",
    "def move_to_end(l,value):\n",
    "    l1=[]\n",
    "    l2=[]\n",
    "    if value in l:\n",
    "        for i in l:\n",
    "            if i==value:\n",
    "                l1.append(i)\n",
    "            else:\n",
    "                l2.append(i)\n",
    "        l2.extend(l1)\n",
    "        return l2\n",
    "    else:\n",
    "        print(\"value not in the list\")\n",
    "    \n",
    "\n",
    "move_to_end(l,value)"
   ]
  },
  {
   "cell_type": "code",
   "execution_count": null,
   "metadata": {},
   "outputs": [],
   "source": []
  }
 ],
 "metadata": {
  "kernelspec": {
   "display_name": "Python 3",
   "language": "python",
   "name": "python3"
  },
  "language_info": {
   "codemirror_mode": {
    "name": "ipython",
    "version": 3
   },
   "file_extension": ".py",
   "mimetype": "text/x-python",
   "name": "python",
   "nbconvert_exporter": "python",
   "pygments_lexer": "ipython3",
   "version": "3.7.4"
  }
 },
 "nbformat": 4,
 "nbformat_minor": 2
}
