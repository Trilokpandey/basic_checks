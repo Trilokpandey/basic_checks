{
 "cells": [
  {
   "cell_type": "markdown",
   "metadata": {},
   "source": [
    "## Question 1:\n",
    "\n",
    "## Define a class with a generator which can iterate the numbers, which are divisible by 7, between a given range 0 and n."
   ]
  },
  {
   "cell_type": "code",
   "execution_count": 1,
   "metadata": {},
   "outputs": [
    {
     "name": "stdout",
     "output_type": "stream",
     "text": [
      "7\n",
      "14\n"
     ]
    }
   ],
   "source": [
    "class number:\n",
    "    def __init__(self,n):\n",
    "        self.n=n\n",
    "    def gen_num(self):\n",
    "        for i in range(1,self.n):\n",
    "            if i % 7==0:\n",
    "                yield i\n",
    "                \n",
    "num=number(20)\n",
    "for i in num.gen_num():\n",
    "    print(i)"
   ]
  },
  {
   "cell_type": "markdown",
   "metadata": {},
   "source": [
    "## Question 2:\n",
    "## Write a program to compute the frequency of the words from the input. The output should output after sorting the key alphanumerically. \n",
    "\n",
    "## Suppose the following input is supplied to the program:\n",
    "\n",
    "## New to Python or choosing between Python 2 and Python 3? Read Python 2 or Python 3.\n",
    "\n",
    "## Then, the output should be:\n",
    "\n",
    "## 2:2\n",
    "\n",
    "## 3.:1\n",
    "\n",
    "## 3?:1\n",
    "\n",
    "## New:1\n",
    "\n",
    "## Python:5\n",
    "\n",
    "## Read:1\n",
    "\n",
    "## and:1\n",
    "\n",
    "## between:1\n",
    "\n",
    "## choosing:1\n",
    "\n",
    "## or:2\n",
    "\n",
    "## to:1"
   ]
  },
  {
   "cell_type": "code",
   "execution_count": 2,
   "metadata": {},
   "outputs": [
    {
     "name": "stdout",
     "output_type": "stream",
     "text": [
      "enterany alphanumeric sentence : New to Python or choosing between Python 2 and Python 3? Read Python 2 or Python 3.\n",
      "2:2\n",
      "3.:1\n",
      "3?:1\n",
      "New:1\n",
      "Python:5\n",
      "Read:1\n",
      "and:1\n",
      "between:1\n",
      "choosing:1\n",
      "or:2\n",
      "to:1\n"
     ]
    }
   ],
   "source": [
    "sentence = input(\"enterany alphanumeric sentence : \")\n",
    "words=sentence.split()\n",
    "l=sorted(words)\n",
    "d={}\n",
    "for i in range(len(l)):\n",
    "    item=l[i]\n",
    "    count=0\n",
    "    for j in range(i,len(l)):\n",
    "        if l[j]==l[i]:\n",
    "            count+=1\n",
    "    freq=dict({item:count})\n",
    "    if item not in d.keys():\n",
    "        d.update(freq)\n",
    "print(\"\\n\".join(\"{}:{}\".format(k,v)for k,v in d.items()))\n"
   ]
  },
  {
   "cell_type": "markdown",
   "metadata": {},
   "source": [
    "## Question 3:\n",
    "\n",
    "\n",
    "\n",
    "## Define a class Person and its two child classes: Male and Female. All classes have a method \"getGender\" which can print \"Male\" for Male class and \"Female\" for Female class.\n"
   ]
  },
  {
   "cell_type": "code",
   "execution_count": 3,
   "metadata": {},
   "outputs": [
    {
     "name": "stdout",
     "output_type": "stream",
     "text": [
      "female\n",
      "male\n"
     ]
    }
   ],
   "source": [
    "class Person:\n",
    "    def getGender(self):\n",
    "        pass\n",
    "        \n",
    "    \n",
    "class Male(Person):\n",
    "    def getGender(self):\n",
    "        print('male')\n",
    "    \n",
    "class Female(Person):\n",
    "    def getGender(self):\n",
    "        print('female')\n",
    "        \n",
    "f=Female()\n",
    "f.getGender()\n",
    "m=Male()\n",
    "m.getGender()"
   ]
  },
  {
   "cell_type": "markdown",
   "metadata": {},
   "source": [
    "## Question 4:\n",
    "## Please write a program to generate all sentences where subject is in [\"I\", \"You\"] and verb is in [\"Play\", \"Love\"] and the object is in [\"Hockey\",\"Football\"].\n",
    "\n"
   ]
  },
  {
   "cell_type": "code",
   "execution_count": 4,
   "metadata": {},
   "outputs": [
    {
     "name": "stdout",
     "output_type": "stream",
     "text": [
      "I Play Hockey\n",
      "I Play Football\n",
      "I Love Hockey\n",
      "I Love Football\n",
      "You Play Hockey\n",
      "You Play Football\n",
      "You Love Hockey\n",
      "You Love Football\n"
     ]
    }
   ],
   "source": [
    "subjects = [\"I\", \"You\"]\n",
    "verbs    = [\"Play\", \"Love\"] \n",
    "objects  = [\"Hockey\",\"Football\"]\n",
    "for i in subjects:\n",
    "    for j in verbs:\n",
    "        for k in objects:\n",
    "            print(i+\" \"+j+\" \"+k)"
   ]
  },
  {
   "cell_type": "markdown",
   "metadata": {},
   "source": [
    "\n",
    "## Question 5:\n",
    "## Please write a program to compress and decompress the string \"hello world!hello world!hello world!hello world!\"."
   ]
  },
  {
   "cell_type": "code",
   "execution_count": 5,
   "metadata": {},
   "outputs": [
    {
     "name": "stdout",
     "output_type": "stream",
     "text": [
      "b'x\\x9c\\xcbH\\xcd\\xc9\\xc9W(\\xcf/\\xcaIQ\\xcc \\x82\\r\\x00\\xbd[\\x11\\xf5'\n",
      "b'hello world!hello world!hello world!hello world!'\n"
     ]
    }
   ],
   "source": [
    "import zlib\n",
    "string = \"hello world!hello world!hello world!hello world!\"\n",
    "compressed_string = zlib.compress(string.encode())\n",
    "print(compressed_string)\n",
    "print(zlib.decompress(compressed_string))"
   ]
  },
  {
   "cell_type": "markdown",
   "metadata": {},
   "source": [
    "\n",
    "## Question 6:\n",
    "## Please write a binary search function which searches an item in a sorted list. The function should return the index of element to be searched in the list.\n"
   ]
  },
  {
   "cell_type": "code",
   "execution_count": 6,
   "metadata": {},
   "outputs": [
    {
     "name": "stdout",
     "output_type": "stream",
     "text": [
      "enter the item to be found in the given list : 1\n",
      "item found at location 4\n"
     ]
    }
   ],
   "source": [
    "item = int(input(\"enter the item to be found in the given list : \"))\n",
    "\n",
    "l=[8,3,2,0,1,5,4,9]\n",
    "\n",
    "\n",
    "def binary_search(l,item):\n",
    "    low_index = 0\n",
    "    high_index = len(l)-1\n",
    "    mid_index = 0\n",
    "    \n",
    "    while low_index <= high_index:\n",
    "        \n",
    "        mid_index = (low_index + high_index) // 2\n",
    "        \n",
    "        if l[mid_index] < item:\n",
    "            low_index = mid_index + 1\n",
    "        \n",
    "        elif l[mid_index] > item:\n",
    "            high_index = mid_index -1\n",
    "        \n",
    "        else:\n",
    "            return mid_index\n",
    "        \n",
    "    return -1\n",
    "\n",
    "\n",
    "search_result = binary_search(l,item)\n",
    "\n",
    "if search_result != -1:\n",
    "    print(\"item found at location\",search_result)\n",
    "else:\n",
    "    print(\"item not found in the list\")\n",
    "            \n",
    "            \n",
    "            "
   ]
  }
 ],
 "metadata": {
  "kernelspec": {
   "display_name": "Python 3",
   "language": "python",
   "name": "python3"
  },
  "language_info": {
   "codemirror_mode": {
    "name": "ipython",
    "version": 3
   },
   "file_extension": ".py",
   "mimetype": "text/x-python",
   "name": "python",
   "nbconvert_exporter": "python",
   "pygments_lexer": "ipython3",
   "version": "3.7.4"
  }
 },
 "nbformat": 4,
 "nbformat_minor": 2
}
