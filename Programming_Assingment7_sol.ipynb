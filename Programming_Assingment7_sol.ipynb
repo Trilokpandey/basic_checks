{
 "cells": [
  {
   "cell_type": "markdown",
   "metadata": {},
   "source": [
    "## 1.Write a Python Program to find sum of array?"
   ]
  },
  {
   "cell_type": "code",
   "execution_count": 1,
   "metadata": {},
   "outputs": [
    {
     "name": "stdout",
     "output_type": "stream",
     "text": [
      "sum of array is :  30\n"
     ]
    }
   ],
   "source": [
    "def arraySum(arr):\n",
    "    sum=0\n",
    "    for i in arr:\n",
    "        sum+=i\n",
    "    return sum\n",
    "\n",
    "print(\"sum of array is : \" ,arraySum([6,7,8,9]))\n",
    "    "
   ]
  },
  {
   "cell_type": "markdown",
   "metadata": {},
   "source": [
    "## 2.Write a Python Program to find largest element in an array?"
   ]
  },
  {
   "cell_type": "code",
   "execution_count": 2,
   "metadata": {},
   "outputs": [
    {
     "name": "stdout",
     "output_type": "stream",
     "text": [
      "largest element in the array is :  8\n"
     ]
    }
   ],
   "source": [
    "def largest_element(arr):\n",
    "    largest=0\n",
    "    for i in arr:\n",
    "        if i>largest:\n",
    "            largest=i\n",
    "    return largest\n",
    "    \n",
    "print(\"largest element in the array is : \" ,largest_element([2,5,3,8,4]))"
   ]
  },
  {
   "cell_type": "markdown",
   "metadata": {},
   "source": [
    "## 3.Write a Python Program for array rotation?"
   ]
  },
  {
   "cell_type": "code",
   "execution_count": 3,
   "metadata": {},
   "outputs": [
    {
     "name": "stdout",
     "output_type": "stream",
     "text": [
      "array after rotation :  [8, 6, 5, 4, 3, 2, 1]\n"
     ]
    }
   ],
   "source": [
    "def arrayRotation(arr):\n",
    "    n=len(arr)\n",
    "    for i in range(round(n/2)):\n",
    "        temp=arr[n-1-i]\n",
    "        arr[n-1-i]=arr[i]\n",
    "        arr[i]=temp\n",
    "    return arr\n",
    "    \n",
    "print(\"array after rotation : \" ,arrayRotation([1,2,3,4,5,6,8]))"
   ]
  },
  {
   "cell_type": "markdown",
   "metadata": {},
   "source": [
    "## 4.Write a Python Program to Split the array and add the first part to the end?"
   ]
  },
  {
   "cell_type": "code",
   "execution_count": 4,
   "metadata": {},
   "outputs": [
    {
     "name": "stdout",
     "output_type": "stream",
     "text": [
      "array after spli and rotation :  [5, 6, 8, 7, 1, 2, 3]\n"
     ]
    }
   ],
   "source": [
    "def arraySplit(arr):\n",
    "    n=len(arr)\n",
    "    if n %2 == 0:\n",
    "        for i in range((n/2)):\n",
    "            temp=arr[(n/2)+i]\n",
    "            arr[(n/2)+i]=arr[i]\n",
    "            arr[i]=temp\n",
    "        return arr\n",
    "    else:\n",
    "        for i in range(round(n/2)-1):\n",
    "            temp=arr[round(n/2)+i]\n",
    "            arr[round(n/2)+i]=arr[i]\n",
    "            arr[i]=temp\n",
    "        return arr\n",
    "            \n",
    "print(\"array after spli and rotation : \",arraySplit([1,2,3,7,5,6,8]))\n",
    "        "
   ]
  },
  {
   "cell_type": "markdown",
   "metadata": {},
   "source": [
    "## 5.Write a Python Program to check if given array is Monotonic?"
   ]
  },
  {
   "cell_type": "code",
   "execution_count": 5,
   "metadata": {},
   "outputs": [
    {
     "name": "stdout",
     "output_type": "stream",
     "text": [
      "array result wether its monotonic or not :  False\n"
     ]
    }
   ],
   "source": [
    "def isMonotonic(arr):\n",
    "    n = len(arr)\n",
    "    if n==1:\n",
    "        return True\n",
    "    else:\n",
    "        if all((arr[i] <= arr[i+1] for i in range(n-1)) or (arr[i] >= arr[i+1] for i in range(n-1))):\n",
    "            return True\n",
    "        else:\n",
    "            return False\n",
    "\n",
    "print(\"array result wether its monotonic or not : \",isMonotonic([5,15,20,10,7]))\n",
    "\n",
    "    "
   ]
  },
  {
   "cell_type": "code",
   "execution_count": null,
   "metadata": {},
   "outputs": [],
   "source": []
  },
  {
   "cell_type": "code",
   "execution_count": null,
   "metadata": {},
   "outputs": [],
   "source": []
  }
 ],
 "metadata": {
  "kernelspec": {
   "display_name": "Python 3",
   "language": "python",
   "name": "python3"
  },
  "language_info": {
   "codemirror_mode": {
    "name": "ipython",
    "version": 3
   },
   "file_extension": ".py",
   "mimetype": "text/x-python",
   "name": "python",
   "nbconvert_exporter": "python",
   "pygments_lexer": "ipython3",
   "version": "3.7.4"
  }
 },
 "nbformat": 4,
 "nbformat_minor": 2
}
