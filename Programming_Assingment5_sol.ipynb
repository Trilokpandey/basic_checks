{
 "cells": [
  {
   "cell_type": "markdown",
   "metadata": {},
   "source": [
    "## 1.Write a Python Program to Find LCM?"
   ]
  },
  {
   "cell_type": "code",
   "execution_count": 1,
   "metadata": {},
   "outputs": [
    {
     "name": "stdout",
     "output_type": "stream",
     "text": [
      "enter the first number : 20\n",
      "enter the second number :30\n",
      "LCM of 20 and 30 is : 60\n"
     ]
    }
   ],
   "source": [
    "num1 = int(input(\"enter the first number : \"))\n",
    "num2= int(input(\"enter the second number :\"))\n",
    "\n",
    "def lcm(num1,num2):\n",
    "    if num1 > num2:\n",
    "        greater = num1\n",
    "    else:\n",
    "        greater = num2\n",
    "    while(1):\n",
    "        if ((greater % num1 == 0) and (greater % num2 == 0)):\n",
    "            lcm = greater \n",
    "            break\n",
    "        greater+= 1\n",
    "    return lcm\n",
    "print(\"LCM of {} and {} is : {}\".format(num1,num2,lcm(num1,num2)))"
   ]
  },
  {
   "cell_type": "markdown",
   "metadata": {},
   "source": [
    "## 2.Write a Python Program to Find HCF?"
   ]
  },
  {
   "cell_type": "code",
   "execution_count": 3,
   "metadata": {},
   "outputs": [
    {
     "name": "stdout",
     "output_type": "stream",
     "text": [
      "enter the first number : 20\n",
      "enter the second number : 30\n",
      "HCF of 20 and 30 is : 10\n"
     ]
    }
   ],
   "source": [
    "num1 = int(input(\"enter the first number : \"))\n",
    "num2 = int(input(\"enter the second number : \"))\n",
    "\n",
    "def hcf(num1,num2):\n",
    "    if num1>num2:\n",
    "        smaller=num2\n",
    "    else:\n",
    "        smaller=num1\n",
    "    for i in range(1,smaller+1):\n",
    "        if((num1%i==0) and (num2%i==0)):\n",
    "            hcf=i\n",
    "    return hcf\n",
    "print(\"HCF of {} and {} is : {}\".format(num1,num2,hcf(num1,num2)))"
   ]
  },
  {
   "cell_type": "markdown",
   "metadata": {},
   "source": [
    "## 3.Write a Python Program to Convert Decimal to Binary, Octal and Hexadecimal?"
   ]
  },
  {
   "cell_type": "code",
   "execution_count": 4,
   "metadata": {},
   "outputs": [
    {
     "name": "stdout",
     "output_type": "stream",
     "text": [
      "enter input:  45\n",
      "binary form of 45 is 0b101101\n",
      "octal form of 45 is 0o55\n",
      "hexadecimal form of 45 is 0x2d\n"
     ]
    }
   ],
   "source": [
    "num=int(input(\"enter input:  \"))\n",
    "print(\"binary form of {} is {}\".format(num ,bin(num)))\n",
    "print(\"octal form of {} is {}\".format(num ,oct(num)))\n",
    "print(\"hexadecimal form of {} is {}\".format(num ,hex(num)))"
   ]
  },
  {
   "cell_type": "markdown",
   "metadata": {},
   "source": [
    "## 4.Write a Python Program To Find ASCII value of a character?"
   ]
  },
  {
   "cell_type": "code",
   "execution_count": 5,
   "metadata": {},
   "outputs": [
    {
     "name": "stdout",
     "output_type": "stream",
     "text": [
      "enter input:  B\n",
      "ascii value of B is 66\n"
     ]
    }
   ],
   "source": [
    "char=input(\"enter input:  \")\n",
    "print(\"ascii value of {} is {}\".format(char,ord(char)))"
   ]
  },
  {
   "cell_type": "markdown",
   "metadata": {},
   "source": [
    "## 5.Write a Python Program to Make a Simple Calculator with 4 basic mathematical operations?"
   ]
  },
  {
   "cell_type": "code",
   "execution_count": 6,
   "metadata": {},
   "outputs": [
    {
     "name": "stdout",
     "output_type": "stream",
     "text": [
      "enter the first number : 34\n",
      "enter the second number : 5\n",
      "enter the operation you want to do : *\n",
      "170\n"
     ]
    }
   ],
   "source": [
    "num1 = int(input(\"enter the first number : \"))\n",
    "num2 = int(input(\"enter the second number : \"))\n",
    "\n",
    "symbol=input(\"enter the operation you want to do : \")\n",
    "if symbol=='+':\n",
    "    print(num1 + num2)\n",
    "elif symbol==\"-\":\n",
    "    print(num1-num2)\n",
    "elif symbol==\"*\":\n",
    "    print(num1*num2)\n",
    "else:\n",
    "    print(num1/num2) "
   ]
  },
  {
   "cell_type": "code",
   "execution_count": null,
   "metadata": {},
   "outputs": [],
   "source": []
  },
  {
   "cell_type": "code",
   "execution_count": null,
   "metadata": {},
   "outputs": [],
   "source": []
  }
 ],
 "metadata": {
  "kernelspec": {
   "display_name": "Python 3",
   "language": "python",
   "name": "python3"
  },
  "language_info": {
   "codemirror_mode": {
    "name": "ipython",
    "version": 3
   },
   "file_extension": ".py",
   "mimetype": "text/x-python",
   "name": "python",
   "nbconvert_exporter": "python",
   "pygments_lexer": "ipython3",
   "version": "3.7.4"
  }
 },
 "nbformat": 4,
 "nbformat_minor": 2
}
