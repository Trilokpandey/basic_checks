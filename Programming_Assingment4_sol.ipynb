{
 "cells": [
  {
   "cell_type": "markdown",
   "metadata": {},
   "source": [
    "## 1.Write a Python Program to Find the Factorial of a Number?"
   ]
  },
  {
   "cell_type": "code",
   "execution_count": 1,
   "metadata": {},
   "outputs": [],
   "source": [
    "def factorial(n):\n",
    "    if n==1:\n",
    "        fact=1\n",
    "    else:\n",
    "        fact=n*factorial(n-1)\n",
    "    return fact"
   ]
  },
  {
   "cell_type": "code",
   "execution_count": 2,
   "metadata": {},
   "outputs": [
    {
     "data": {
      "text/plain": [
       "720"
      ]
     },
     "execution_count": 2,
     "metadata": {},
     "output_type": "execute_result"
    }
   ],
   "source": [
    "factorial(6)"
   ]
  },
  {
   "cell_type": "markdown",
   "metadata": {},
   "source": [
    "## 2.Write a Python Program to Display the multiplication Table?"
   ]
  },
  {
   "cell_type": "code",
   "execution_count": 3,
   "metadata": {},
   "outputs": [
    {
     "name": "stdout",
     "output_type": "stream",
     "text": [
      "enter the number for which you want to get the table9\n",
      "9\n",
      "18\n",
      "27\n",
      "36\n",
      "45\n",
      "54\n",
      "63\n",
      "72\n",
      "81\n"
     ]
    }
   ],
   "source": [
    "n=int(input(\"enter the number for which you want to get the table\"))\n",
    "for i in range(1,10):\n",
    "     print(n*i,end=\"\\n\")      "
   ]
  },
  {
   "cell_type": "markdown",
   "metadata": {},
   "source": [
    "## 3.Write a Python Program to Print the Fibonacci sequence?"
   ]
  },
  {
   "cell_type": "code",
   "execution_count": 4,
   "metadata": {},
   "outputs": [
    {
     "name": "stdout",
     "output_type": "stream",
     "text": [
      "enter the limit till you want the fibonacci series : 8\n",
      "\n",
      "\n",
      "1 2 3 5 8 13 21 34 "
     ]
    }
   ],
   "source": [
    "a=0\n",
    "b=1\n",
    "n=int(input(\"enter the limit till you want the fibonacci series : \"))\n",
    "print(\"\\n\")\n",
    "for i in range(n):\n",
    "    a,b=b,a+b\n",
    "    print(b,end=\" \")"
   ]
  },
  {
   "cell_type": "markdown",
   "metadata": {},
   "source": [
    "## 4.Write a Python Program to Check Armstrong Number?"
   ]
  },
  {
   "cell_type": "code",
   "execution_count": 5,
   "metadata": {},
   "outputs": [
    {
     "name": "stdout",
     "output_type": "stream",
     "text": [
      "enter the number : 370\n",
      "\n",
      "\n",
      "370 is an armstrong number \n"
     ]
    }
   ],
   "source": [
    "num=int(input(\"enter the number : \"))\n",
    "n_digit=len(str(num))\n",
    "print(\"\\n\")\n",
    "temp=num\n",
    "sum=0\n",
    "\n",
    "while temp > 0:\n",
    "    digit = temp % 10\n",
    "    temp = temp // 10\n",
    "    sum = sum + pow(digit,n_digit)\n",
    "    \n",
    "if(sum == num):\n",
    "    print(\"{} is an armstrong number \".format(num))\n",
    "else:\n",
    "    print(\"{} is not an armstrong number\".format(num))"
   ]
  },
  {
   "cell_type": "markdown",
   "metadata": {},
   "source": [
    "## 5.Write a Python Program to Find Armstrong Number in an Interval?"
   ]
  },
  {
   "cell_type": "code",
   "execution_count": 6,
   "metadata": {},
   "outputs": [
    {
     "name": "stdout",
     "output_type": "stream",
     "text": [
      "enter the initial number1\n",
      "enter the final number3000\n",
      "1\n",
      "2\n",
      "3\n",
      "4\n",
      "5\n",
      "6\n",
      "7\n",
      "8\n",
      "9\n",
      "153\n",
      "370\n",
      "371\n",
      "407\n",
      "1634\n"
     ]
    }
   ],
   "source": [
    "initial = int(input(\"enter the initial number\"))\n",
    "final = int(input(\"enter the final number\"))\n",
    "\n",
    "for num in range(initial,final):\n",
    "    n_digit = len(str(num))\n",
    "    temp=num\n",
    "    sum=0\n",
    "    \n",
    "    while temp > 0:\n",
    "        digit = temp % 10\n",
    "        temp = temp // 10\n",
    "        sum = sum + pow(digit,n_digit)\n",
    "    if (sum==num):\n",
    "        print(num)\n",
    "\n",
    "    "
   ]
  },
  {
   "cell_type": "markdown",
   "metadata": {},
   "source": [
    "## 6.Write a Python Program to Find the Sum of Natural Numbers?"
   ]
  },
  {
   "cell_type": "code",
   "execution_count": 7,
   "metadata": {},
   "outputs": [
    {
     "name": "stdout",
     "output_type": "stream",
     "text": [
      "enter the number : \n",
      "7\n",
      "sum of natural number till 7 is 28\n"
     ]
    }
   ],
   "source": [
    "print(\"enter the number : \")\n",
    "n=int(input())\n",
    "if n>0:\n",
    "    sum=0\n",
    "    for i in range(n+1):\n",
    "        sum+=i\n",
    "    print(\"sum of natural number till {} is {}\".format(n,sum))\n",
    "else:\n",
    "    print(\"enter positive number\")\n"
   ]
  },
  {
   "cell_type": "code",
   "execution_count": null,
   "metadata": {},
   "outputs": [],
   "source": []
  }
 ],
 "metadata": {
  "kernelspec": {
   "display_name": "Python 3",
   "language": "python",
   "name": "python3"
  },
  "language_info": {
   "codemirror_mode": {
    "name": "ipython",
    "version": 3
   },
   "file_extension": ".py",
   "mimetype": "text/x-python",
   "name": "python",
   "nbconvert_exporter": "python",
   "pygments_lexer": "ipython3",
   "version": "3.7.4"
  }
 },
 "nbformat": 4,
 "nbformat_minor": 2
}
